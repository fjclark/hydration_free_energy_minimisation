{
 "cells": [
  {
   "cell_type": "code",
   "execution_count": 1,
   "id": "84248c21",
   "metadata": {},
   "outputs": [
    {
     "name": "stdout",
     "output_type": "stream",
     "text": [
      "\n",
      "==============================================================\n",
      "Sending anonymous Sire usage statistics to http://siremol.org.\n",
      "For more information, see http://siremol.org/analytics\n",
      "To disable, set the environment variable 'SIRE_DONT_PHONEHOME' to 1\n",
      "To see the information sent, set the environment variable \n",
      "SIRE_VERBOSE_PHONEHOME equal to 1. To silence this message, set\n",
      "the environment variable SIRE_SILENT_PHONEHOME to 1.\n",
      "==============================================================\n",
      "\n"
     ]
    },
    {
     "name": "stderr",
     "output_type": "stream",
     "text": [
      "/home/finlayclark/anaconda3/envs/biosimspace-dev/lib/python3.7/site-packages/BioSimSpace/Process/_amber.py:296: UserWarning: No simulation box found. Assuming gas phase simulation.\n",
      "  _warnings.warn(\"No simulation box found. Assuming gas phase simulation.\")\n",
      "/home/finlayclark/anaconda3/envs/biosimspace-dev/lib/python3.7/site-packages/BioSimSpace/Process/_amber.py:296: UserWarning: No simulation box found. Assuming gas phase simulation.\n",
      "  _warnings.warn(\"No simulation box found. Assuming gas phase simulation.\")\n",
      "/home/finlayclark/anaconda3/envs/biosimspace-dev/lib/python3.7/site-packages/BioSimSpace/Process/_amber.py:296: UserWarning: No simulation box found. Assuming gas phase simulation.\n",
      "  _warnings.warn(\"No simulation box found. Assuming gas phase simulation.\")\n",
      "/home/finlayclark/anaconda3/envs/biosimspace-dev/lib/python3.7/site-packages/BioSimSpace/Process/_amber.py:296: UserWarning: No simulation box found. Assuming gas phase simulation.\n",
      "  _warnings.warn(\"No simulation box found. Assuming gas phase simulation.\")\n",
      "/home/finlayclark/anaconda3/envs/biosimspace-dev/lib/python3.7/site-packages/BioSimSpace/Process/_amber.py:296: UserWarning: No simulation box found. Assuming gas phase simulation.\n",
      "  _warnings.warn(\"No simulation box found. Assuming gas phase simulation.\")\n",
      "/home/finlayclark/anaconda3/envs/biosimspace-dev/lib/python3.7/site-packages/BioSimSpace/Process/_amber.py:296: UserWarning: No simulation box found. Assuming gas phase simulation.\n",
      "  _warnings.warn(\"No simulation box found. Assuming gas phase simulation.\")\n",
      "/home/finlayclark/anaconda3/envs/biosimspace-dev/lib/python3.7/site-packages/BioSimSpace/Process/_amber.py:296: UserWarning: No simulation box found. Assuming gas phase simulation.\n",
      "  _warnings.warn(\"No simulation box found. Assuming gas phase simulation.\")\n",
      "/home/finlayclark/anaconda3/envs/biosimspace-dev/lib/python3.7/site-packages/BioSimSpace/Process/_amber.py:296: UserWarning: No simulation box found. Assuming gas phase simulation.\n",
      "  _warnings.warn(\"No simulation box found. Assuming gas phase simulation.\")\n",
      "/home/finlayclark/anaconda3/envs/biosimspace-dev/lib/python3.7/site-packages/BioSimSpace/Process/_amber.py:296: UserWarning: No simulation box found. Assuming gas phase simulation.\n",
      "  _warnings.warn(\"No simulation box found. Assuming gas phase simulation.\")\n",
      "/home/finlayclark/anaconda3/envs/biosimspace-dev/lib/python3.7/site-packages/BioSimSpace/Process/_amber.py:296: UserWarning: No simulation box found. Assuming gas phase simulation.\n",
      "  _warnings.warn(\"No simulation box found. Assuming gas phase simulation.\")\n",
      "/home/finlayclark/anaconda3/envs/biosimspace-dev/lib/python3.7/site-packages/BioSimSpace/Process/_amber.py:296: UserWarning: No simulation box found. Assuming gas phase simulation.\n",
      "  _warnings.warn(\"No simulation box found. Assuming gas phase simulation.\")\n",
      "/home/finlayclark/anaconda3/envs/biosimspace-dev/lib/python3.7/site-packages/BioSimSpace/Process/_amber.py:296: UserWarning: No simulation box found. Assuming gas phase simulation.\n",
      "  _warnings.warn(\"No simulation box found. Assuming gas phase simulation.\")\n",
      "/home/finlayclark/anaconda3/envs/biosimspace-dev/lib/python3.7/site-packages/BioSimSpace/Process/_amber.py:296: UserWarning: No simulation box found. Assuming gas phase simulation.\n",
      "  _warnings.warn(\"No simulation box found. Assuming gas phase simulation.\")\n",
      "/home/finlayclark/anaconda3/envs/biosimspace-dev/lib/python3.7/site-packages/BioSimSpace/Process/_amber.py:296: UserWarning: No simulation box found. Assuming gas phase simulation.\n",
      "  _warnings.warn(\"No simulation box found. Assuming gas phase simulation.\")\n",
      "/home/finlayclark/anaconda3/envs/biosimspace-dev/lib/python3.7/site-packages/BioSimSpace/Process/_amber.py:296: UserWarning: No simulation box found. Assuming gas phase simulation.\n",
      "  _warnings.warn(\"No simulation box found. Assuming gas phase simulation.\")\n",
      "/home/finlayclark/anaconda3/envs/biosimspace-dev/lib/python3.7/site-packages/BioSimSpace/Process/_amber.py:296: UserWarning: No simulation box found. Assuming gas phase simulation.\n",
      "  _warnings.warn(\"No simulation box found. Assuming gas phase simulation.\")\n",
      "/home/finlayclark/anaconda3/envs/biosimspace-dev/lib/python3.7/site-packages/BioSimSpace/Process/_amber.py:296: UserWarning: No simulation box found. Assuming gas phase simulation.\n",
      "  _warnings.warn(\"No simulation box found. Assuming gas phase simulation.\")\n"
     ]
    }
   ],
   "source": [
    "import BioSimSpace as BSS"
   ]
  },
  {
   "cell_type": "markdown",
   "id": "97b3479f",
   "metadata": {},
   "source": [
    "## Read in Unequilibrated System"
   ]
  },
  {
   "cell_type": "code",
   "execution_count": 2,
   "id": "924deb88",
   "metadata": {},
   "outputs": [],
   "source": [
    "mif_180 = BSS.IO.readMolecules([\"mif180_ligand.prm7\",\"mif180_ligand.rst7\"])"
   ]
  },
  {
   "cell_type": "markdown",
   "id": "712bb2e4",
   "metadata": {},
   "source": [
    "## Minimise with Sander"
   ]
  },
  {
   "cell_type": "code",
   "execution_count": 51,
   "id": "ca34d31d",
   "metadata": {},
   "outputs": [],
   "source": [
    "minimisation_protocol = BSS.Protocol.Minimisation(steps = 1000)"
   ]
  },
  {
   "cell_type": "code",
   "execution_count": 52,
   "id": "f171ca6a",
   "metadata": {},
   "outputs": [],
   "source": [
    "minimisation_process = BSS.Process.Amber(mif_180, minimisation_protocol, exe = '/home/finlayclark/software/amber20/bin/sander',work_dir='notebook_work_dir/sander/')"
   ]
  },
  {
   "cell_type": "code",
   "execution_count": 53,
   "id": "2393f78f",
   "metadata": {},
   "outputs": [
    {
     "data": {
      "text/plain": [
       "BioSimSpace.Process.Amber(<BioSimSpace.System: nMolecules=1>, BioSimSpace.Protocol.Minimisation(steps=1000), exe='/home/finlayclark/software/amber20/bin/sander', name='amber', work_dir='/home/finlayclark/Documents/research/restraint_comparison_mif/testing/dg_hyd/mif180_own_param/vacuum/input/hydration_free_energy_minimisation/notebook_work_dir/sander/', seed=None)"
      ]
     },
     "execution_count": 53,
     "metadata": {},
     "output_type": "execute_result"
    }
   ],
   "source": [
    "minimisation_process.start()"
   ]
  },
  {
   "cell_type": "code",
   "execution_count": 80,
   "id": "5262dd91",
   "metadata": {},
   "outputs": [
    {
     "data": {
      "text/plain": [
       "[40.5170 kcal/mol, 12.7520 kcal/mol, 12.0730 kcal/mol]"
      ]
     },
     "execution_count": 80,
     "metadata": {},
     "output_type": "execute_result"
    }
   ],
   "source": [
    "minimisation_process.getTotalEnergy(time_series=True)"
   ]
  },
  {
   "cell_type": "code",
   "execution_count": 85,
   "id": "161a5fca",
   "metadata": {},
   "outputs": [
    {
     "data": {
      "text/plain": [
       "['Minimisation',\n",
       " ' &cntrl',\n",
       " '  imin=1,',\n",
       " '  ntx=1,',\n",
       " '  ntxo=1,',\n",
       " '  ntpr=100,',\n",
       " '  irest=0,',\n",
       " '  maxcyc=1000,',\n",
       " '  ncyc=1000,',\n",
       " '  ntb=0,',\n",
       " '  cut=999.,',\n",
       " ' /']"
      ]
     },
     "execution_count": 85,
     "metadata": {},
     "output_type": "execute_result"
    }
   ],
   "source": [
    "minimisation_process.getConfig()"
   ]
  },
  {
   "cell_type": "markdown",
   "id": "90434aec",
   "metadata": {},
   "source": [
    "#### Final energy 1.2073E+01"
   ]
  },
  {
   "cell_type": "markdown",
   "id": "a8affd93",
   "metadata": {},
   "source": [
    "## Minimise with Sander and igb = 1, extdiel=1.0"
   ]
  },
  {
   "cell_type": "code",
   "execution_count": 51,
   "id": "c85292b9",
   "metadata": {},
   "outputs": [],
   "source": [
    "minimisation_protocol = BSS.Protocol.Minimisation(steps = 1000)"
   ]
  },
  {
   "cell_type": "code",
   "execution_count": 135,
   "id": "1186098d",
   "metadata": {},
   "outputs": [],
   "source": [
    "minimisation_process_sander_igb1_extdiel1 = BSS.Process.Amber(mif_180, minimisation_protocol, exe = '/home/finlayclark/software/amber20/bin/sander',work_dir='notebook_work_dir/sander_igb1_extdiel1/')"
   ]
  },
  {
   "cell_type": "code",
   "execution_count": 136,
   "id": "b2e1f592",
   "metadata": {},
   "outputs": [
    {
     "data": {
      "text/plain": [
       "BioSimSpace.Process.Amber(<BioSimSpace.System: nMolecules=1>, BioSimSpace.Protocol.Minimisation(steps=1000), exe='/home/finlayclark/software/amber20/bin/sander', name='amber', work_dir='/home/finlayclark/Documents/research/restraint_comparison_mif/testing/dg_hyd/mif180_own_param/vacuum/input/hydration_free_energy_minimisation/notebook_work_dir/sander_igb1_extdiel1/', seed=None)"
      ]
     },
     "execution_count": 136,
     "metadata": {},
     "output_type": "execute_result"
    }
   ],
   "source": [
    "minimisation_process_sander_igb1_extdiel1.start()"
   ]
  },
  {
   "cell_type": "code",
   "execution_count": 138,
   "id": "ef431b55",
   "metadata": {},
   "outputs": [
    {
     "data": {
      "text/plain": [
       "[40.5170 kcal/mol,\n",
       " 13.4520 kcal/mol,\n",
       " 13.0160 kcal/mol,\n",
       " 12.7510 kcal/mol,\n",
       " 12.5650 kcal/mol,\n",
       " 12.2450 kcal/mol,\n",
       " 12.1750 kcal/mol,\n",
       " 12.0740 kcal/mol]"
      ]
     },
     "execution_count": 138,
     "metadata": {},
     "output_type": "execute_result"
    }
   ],
   "source": [
    "minimisation_process_sander_igb1_extdiel1.getTotalEnergy(time_series=True)"
   ]
  },
  {
   "cell_type": "code",
   "execution_count": 139,
   "id": "e59d468b",
   "metadata": {},
   "outputs": [
    {
     "data": {
      "text/plain": [
       "['Minimisation',\n",
       " ' &cntrl',\n",
       " '  imin=1,',\n",
       " '  ntx=1,',\n",
       " '  ntxo=1,',\n",
       " '  ntpr=100,',\n",
       " '  irest=0,',\n",
       " '  maxcyc=1000,',\n",
       " '  ncyc=1000,',\n",
       " '  ntb=0,',\n",
       " '  cut=999.,',\n",
       " ' /']"
      ]
     },
     "execution_count": 139,
     "metadata": {},
     "output_type": "execute_result"
    }
   ],
   "source": [
    "minimisation_process.getConfig()"
   ]
  },
  {
   "cell_type": "markdown",
   "id": "010a33d4",
   "metadata": {},
   "source": [
    "#### Final energy 1.2074E+01"
   ]
  },
  {
   "cell_type": "markdown",
   "id": "73e88900",
   "metadata": {},
   "source": [
    "## Minimise with Sander and igb = 6"
   ]
  },
  {
   "cell_type": "code",
   "execution_count": 51,
   "id": "4c92149f",
   "metadata": {},
   "outputs": [],
   "source": [
    "minimisation_protocol = BSS.Protocol.Minimisation(steps = 1000)"
   ]
  },
  {
   "cell_type": "code",
   "execution_count": 132,
   "id": "01c7fb41",
   "metadata": {},
   "outputs": [],
   "source": [
    "minimisation_process_sander_igb6 = BSS.Process.Amber(mif_180, minimisation_protocol, exe = '/home/finlayclark/software/amber20/bin/sander',work_dir='notebook_work_dir/sander_igb6/')"
   ]
  },
  {
   "cell_type": "code",
   "execution_count": 133,
   "id": "62e4562e",
   "metadata": {},
   "outputs": [
    {
     "data": {
      "text/plain": [
       "BioSimSpace.Process.Amber(<BioSimSpace.System: nMolecules=1>, BioSimSpace.Protocol.Minimisation(steps=1000), exe='/home/finlayclark/software/amber20/bin/sander', name='amber', work_dir='/home/finlayclark/Documents/research/restraint_comparison_mif/testing/dg_hyd/mif180_own_param/vacuum/input/hydration_free_energy_minimisation/notebook_work_dir/sander_igb6/', seed=None)"
      ]
     },
     "execution_count": 133,
     "metadata": {},
     "output_type": "execute_result"
    }
   ],
   "source": [
    "minimisation_process_sander_igb6.start()"
   ]
  },
  {
   "cell_type": "code",
   "execution_count": 134,
   "id": "33ec43bf",
   "metadata": {},
   "outputs": [
    {
     "data": {
      "text/plain": [
       "[40.5170 kcal/mol,\n",
       " 13.4520 kcal/mol,\n",
       " 13.0160 kcal/mol,\n",
       " 12.7510 kcal/mol,\n",
       " 12.1750 kcal/mol,\n",
       " 12.0740 kcal/mol]"
      ]
     },
     "execution_count": 134,
     "metadata": {},
     "output_type": "execute_result"
    }
   ],
   "source": [
    "minimisation_process_sander_igb6.getTotalEnergy(time_series=True)"
   ]
  },
  {
   "cell_type": "code",
   "execution_count": 85,
   "id": "2caad249",
   "metadata": {},
   "outputs": [
    {
     "data": {
      "text/plain": [
       "['Minimisation',\n",
       " ' &cntrl',\n",
       " '  imin=1,',\n",
       " '  ntx=1,',\n",
       " '  ntxo=1,',\n",
       " '  ntpr=100,',\n",
       " '  irest=0,',\n",
       " '  maxcyc=1000,',\n",
       " '  ncyc=1000,',\n",
       " '  ntb=0,',\n",
       " '  cut=999.,',\n",
       " ' /']"
      ]
     },
     "execution_count": 85,
     "metadata": {},
     "output_type": "execute_result"
    }
   ],
   "source": [
    "minimisation_process.getConfig()"
   ]
  },
  {
   "cell_type": "markdown",
   "id": "4f8068a8",
   "metadata": {},
   "source": [
    "#### Final energy 1.2074E+01"
   ]
  },
  {
   "cell_type": "markdown",
   "id": "1b7e9dd0",
   "metadata": {},
   "source": [
    "## Minimise with pmemd and igb =1"
   ]
  },
  {
   "cell_type": "code",
   "execution_count": 24,
   "id": "65bb15a7",
   "metadata": {},
   "outputs": [],
   "source": [
    "minimisation_process_pmemd_igb1 = BSS.Process.Amber(mif_180, minimisation_protocol, exe = '/home/finlayclark/software/amber20/bin/pmemd',work_dir='notebook_work_dir/pmemd_igb1/')"
   ]
  },
  {
   "cell_type": "code",
   "execution_count": 32,
   "id": "e710d87e",
   "metadata": {},
   "outputs": [
    {
     "data": {
      "text/plain": [
       "['Minimisation',\n",
       " ' &cntrl',\n",
       " '  imin=1,',\n",
       " '  ntx=1,',\n",
       " '  ntxo=1,',\n",
       " '  ntpr=100,',\n",
       " '  irest=0,',\n",
       " '  maxcyc=1000,',\n",
       " '  ncyc=1000,',\n",
       " '  ntb=0,',\n",
       " '  cut=999.,',\n",
       " ' /']"
      ]
     },
     "execution_count": 32,
     "metadata": {},
     "output_type": "execute_result"
    }
   ],
   "source": [
    "minimisation_process_pmemd_igb1.getConfig()"
   ]
  },
  {
   "cell_type": "code",
   "execution_count": 26,
   "id": "b79e249a",
   "metadata": {},
   "outputs": [
    {
     "data": {
      "text/plain": [
       "BioSimSpace.Process.Amber(<BioSimSpace.System: nMolecules=1>, BioSimSpace.Protocol.Minimisation(steps=1000), exe='/home/finlayclark/software/amber20/bin/pmemd', name='amber', work_dir='/home/finlayclark/Documents/research/restraint_comparison_mif/testing/dg_hyd/mif180_own_param/vacuum/input/hydration_free_energy_minimisation/notebook_work_dir/pmemd_igb1/', seed=None)"
      ]
     },
     "execution_count": 26,
     "metadata": {},
     "output_type": "execute_result"
    }
   ],
   "source": [
    "minimisation_process_pmemd_igb1.start()"
   ]
  },
  {
   "cell_type": "code",
   "execution_count": 27,
   "id": "ea1c67a5",
   "metadata": {},
   "outputs": [
    {
     "data": {
      "text/plain": [
       "['Note: The following floating-point exceptions are signalling: IEEE_INVALID_FLAG']"
      ]
     },
     "execution_count": 27,
     "metadata": {},
     "output_type": "execute_result"
    }
   ],
   "source": [
    "minimisation_process_pmemd_igb1.getStderr()"
   ]
  },
  {
   "cell_type": "code",
   "execution_count": 33,
   "id": "82b673be",
   "metadata": {},
   "outputs": [
    {
     "data": {
      "text/plain": [
       "19.0040 kcal/mol"
      ]
     },
     "execution_count": 33,
     "metadata": {},
     "output_type": "execute_result"
    }
   ],
   "source": [
    "minimisation_process_pmemd_igb1.getTotalEnergy()"
   ]
  },
  {
   "cell_type": "markdown",
   "id": "c9d62565",
   "metadata": {},
   "source": [
    "#### Final energy -10.820"
   ]
  },
  {
   "cell_type": "markdown",
   "id": "ac1c8b7e",
   "metadata": {},
   "source": [
    "## Minimise with pmemd and igb =1 (Repeat)"
   ]
  },
  {
   "cell_type": "code",
   "execution_count": 34,
   "id": "c06ebce6",
   "metadata": {},
   "outputs": [],
   "source": [
    "minimisation_process_pmemd_igb1_repeat = BSS.Process.Amber(mif_180, minimisation_protocol, exe = '/home/finlayclark/software/amber20/bin/pmemd',work_dir='notebook_work_dir/pmemd_igb1_repeat/')"
   ]
  },
  {
   "cell_type": "code",
   "execution_count": 36,
   "id": "449fb3c7",
   "metadata": {},
   "outputs": [
    {
     "data": {
      "text/plain": [
       "['Minimisation',\n",
       " ' &cntrl',\n",
       " '  imin=1,',\n",
       " '  ntx=1,',\n",
       " '  ntxo=1,',\n",
       " '  ntpr=100,',\n",
       " '  irest=0,',\n",
       " '  maxcyc=1000,',\n",
       " '  ncyc=1000,',\n",
       " '  ntb=0,',\n",
       " '  cut=999.,',\n",
       " ' /']"
      ]
     },
     "execution_count": 36,
     "metadata": {},
     "output_type": "execute_result"
    }
   ],
   "source": [
    "minimisation_process_pmemd_igb1_repeat.getConfig()"
   ]
  },
  {
   "cell_type": "code",
   "execution_count": 37,
   "id": "ba524343",
   "metadata": {},
   "outputs": [
    {
     "data": {
      "text/plain": [
       "BioSimSpace.Process.Amber(<BioSimSpace.System: nMolecules=1>, BioSimSpace.Protocol.Minimisation(steps=1000), exe='/home/finlayclark/software/amber20/bin/pmemd', name='amber', work_dir='/home/finlayclark/Documents/research/restraint_comparison_mif/testing/dg_hyd/mif180_own_param/vacuum/input/hydration_free_energy_minimisation/notebook_work_dir/pmemd_igb1_repeat/', seed=None)"
      ]
     },
     "execution_count": 37,
     "metadata": {},
     "output_type": "execute_result"
    }
   ],
   "source": [
    "minimisation_process_pmemd_igb1_repeat.start()"
   ]
  },
  {
   "cell_type": "code",
   "execution_count": 43,
   "id": "807355eb",
   "metadata": {},
   "outputs": [
    {
     "data": {
      "text/plain": [
       "['Note: The following floating-point exceptions are signalling: IEEE_INVALID_FLAG']"
      ]
     },
     "execution_count": 43,
     "metadata": {},
     "output_type": "execute_result"
    }
   ],
   "source": [
    "minimisation_process_pmemd_igb1_repeat.getStderr()"
   ]
  },
  {
   "cell_type": "code",
   "execution_count": 97,
   "id": "7055251d",
   "metadata": {},
   "outputs": [
    {
     "data": {
      "text/plain": [
       "[19.0040 kcal/mol]"
      ]
     },
     "execution_count": 97,
     "metadata": {},
     "output_type": "execute_result"
    }
   ],
   "source": [
    "minimisation_process_pmemd_igb1_repeat.getTotalEnergy(time_series=True)"
   ]
  },
  {
   "cell_type": "markdown",
   "id": "76314246",
   "metadata": {},
   "source": [
    "#### Final energy -10.820"
   ]
  },
  {
   "cell_type": "markdown",
   "id": "632d30ca",
   "metadata": {},
   "source": [
    "## Minimise with pmemd and igb =1, extdiel = 1.0"
   ]
  },
  {
   "cell_type": "code",
   "execution_count": 45,
   "id": "0ae93a60",
   "metadata": {},
   "outputs": [],
   "source": [
    "minimisation_process_pmemd_igb1_extdiel1 = BSS.Process.Amber(mif_180, minimisation_protocol, exe = '/home/finlayclark/software/amber20/bin/pmemd',work_dir='notebook_work_dir/pmemd_igb1_extdiel1/')"
   ]
  },
  {
   "cell_type": "code",
   "execution_count": 46,
   "id": "28affa6b",
   "metadata": {},
   "outputs": [
    {
     "data": {
      "text/plain": [
       "BioSimSpace.Process.Amber(<BioSimSpace.System: nMolecules=1>, BioSimSpace.Protocol.Minimisation(steps=1000), exe='/home/finlayclark/software/amber20/bin/pmemd', name='amber', work_dir='/home/finlayclark/Documents/research/restraint_comparison_mif/testing/dg_hyd/mif180_own_param/vacuum/input/hydration_free_energy_minimisation/notebook_work_dir/pmemd_igb1_extdiel1/', seed=None)"
      ]
     },
     "execution_count": 46,
     "metadata": {},
     "output_type": "execute_result"
    }
   ],
   "source": [
    "minimisation_process_pmemd_igb1_extdiel1.start()"
   ]
  },
  {
   "cell_type": "code",
   "execution_count": 49,
   "id": "42097152",
   "metadata": {},
   "outputs": [
    {
     "data": {
      "text/plain": [
       "['Note: The following floating-point exceptions are signalling: IEEE_INVALID_FLAG']"
      ]
     },
     "execution_count": 49,
     "metadata": {},
     "output_type": "execute_result"
    }
   ],
   "source": [
    "minimisation_process_pmemd_igb1_extdiel1.getStderr()"
   ]
  },
  {
   "cell_type": "code",
   "execution_count": 50,
   "id": "c91e2181",
   "metadata": {},
   "outputs": [
    {
     "data": {
      "text/plain": [
       "44.0250 kcal/mol"
      ]
     },
     "execution_count": 50,
     "metadata": {},
     "output_type": "execute_result"
    }
   ],
   "source": [
    "minimisation_process_pmemd_igb1_extdiel1.getTotalEnergy()"
   ]
  },
  {
   "cell_type": "markdown",
   "id": "ebef2992",
   "metadata": {},
   "source": [
    "#### Final energy 1.5484E+01"
   ]
  },
  {
   "cell_type": "markdown",
   "id": "1598360a",
   "metadata": {},
   "source": [
    "## Minimise with pmemd and igb = 6"
   ]
  },
  {
   "cell_type": "code",
   "execution_count": 58,
   "id": "2a35e0b2",
   "metadata": {},
   "outputs": [],
   "source": [
    "minimisation_process_pmemd_igb6 = BSS.Process.Amber(mif_180, minimisation_protocol, exe = '/home/finlayclark/software/amber20/bin/pmemd',work_dir='notebook_work_dir/pmemd_igb6/')"
   ]
  },
  {
   "cell_type": "code",
   "execution_count": 59,
   "id": "39a35554",
   "metadata": {},
   "outputs": [
    {
     "data": {
      "text/plain": [
       "BioSimSpace.Process.Amber(<BioSimSpace.System: nMolecules=1>, BioSimSpace.Protocol.Minimisation(steps=1000), exe='/home/finlayclark/software/amber20/bin/pmemd', name='amber', work_dir='/home/finlayclark/Documents/research/restraint_comparison_mif/testing/dg_hyd/mif180_own_param/vacuum/input/hydration_free_energy_minimisation/notebook_work_dir/pmemd_igb6/', seed=None)"
      ]
     },
     "execution_count": 59,
     "metadata": {},
     "output_type": "execute_result"
    }
   ],
   "source": [
    "minimisation_process_pmemd_igb6.start()"
   ]
  },
  {
   "cell_type": "code",
   "execution_count": 60,
   "id": "28768a68",
   "metadata": {},
   "outputs": [
    {
     "data": {
      "text/plain": [
       "['Note: The following floating-point exceptions are signalling: IEEE_INVALID_FLAG']"
      ]
     },
     "execution_count": 60,
     "metadata": {},
     "output_type": "execute_result"
    }
   ],
   "source": [
    "minimisation_process_pmemd_igb6.getStderr()"
   ]
  },
  {
   "cell_type": "code",
   "execution_count": 61,
   "id": "61f3dbfa",
   "metadata": {},
   "outputs": [
    {
     "data": {
      "text/plain": [
       "False"
      ]
     },
     "execution_count": 61,
     "metadata": {},
     "output_type": "execute_result"
    }
   ],
   "source": [
    "minimisation_process_pmemd_igb6.isRunning()"
   ]
  },
  {
   "cell_type": "code",
   "execution_count": 98,
   "id": "bedec7b4",
   "metadata": {},
   "outputs": [
    {
     "data": {
      "text/plain": [
       "[44.0250 kcal/mol]"
      ]
     },
     "execution_count": 98,
     "metadata": {},
     "output_type": "execute_result"
    }
   ],
   "source": [
    "minimisation_process_pmemd_igb6.getTotalEnergy(time_series=True)"
   ]
  },
  {
   "cell_type": "markdown",
   "id": "b452306d",
   "metadata": {},
   "source": [
    "#### Final energy 1.5484E+01 "
   ]
  },
  {
   "cell_type": "markdown",
   "id": "e00c3c3e",
   "metadata": {},
   "source": [
    "## Minimise with pmemd and igb = 0, ntb = 0"
   ]
  },
  {
   "cell_type": "code",
   "execution_count": 86,
   "id": "1f99706e",
   "metadata": {},
   "outputs": [],
   "source": [
    "minimisation_process_pmemd_igb0_ntb0 = BSS.Process.Amber(mif_180, minimisation_protocol, exe = '/home/finlayclark/software/amber20/bin/pmemd',work_dir='notebook_work_dir/pmemd_igb0_ntb0/')"
   ]
  },
  {
   "cell_type": "code",
   "execution_count": 90,
   "id": "4f5c3734",
   "metadata": {},
   "outputs": [
    {
     "data": {
      "text/plain": [
       "BioSimSpace.Process.Amber(<BioSimSpace.System: nMolecules=1>, BioSimSpace.Protocol.Minimisation(steps=1000), exe='/home/finlayclark/software/amber20/bin/pmemd', name='amber', work_dir='/home/finlayclark/Documents/research/restraint_comparison_mif/testing/dg_hyd/mif180_own_param/vacuum/input/hydration_free_energy_minimisation/notebook_work_dir/pmemd_igb0_ntb0/', seed=None)"
      ]
     },
     "execution_count": 90,
     "metadata": {},
     "output_type": "execute_result"
    }
   ],
   "source": [
    "minimisation_process_pmemd_igb0_ntb0.start()"
   ]
  },
  {
   "cell_type": "code",
   "execution_count": 91,
   "id": "c54feb97",
   "metadata": {},
   "outputs": [
    {
     "data": {
      "text/plain": [
       "['',\n",
       " 'Program received signal SIGSEGV: Segmentation fault - invalid memory reference.',\n",
       " '',\n",
       " 'Backtrace for this error:',\n",
       " '#0  0x7f8e80ae8d21 in ???',\n",
       " '#1  0x7f8e80ae7ef5 in ???',\n",
       " '#2  0x7f8e8090120f in ???',\n",
       " '#3  0x5643b7f49573 in ???',\n",
       " '#4  0x5643b7f66dc4 in ???',\n",
       " '#5  0x5643b7f99985 in ???',\n",
       " '#6  0x5643b7fc8b0a in ???',\n",
       " '#7  0x5643b7edc97e in ???',\n",
       " '#8  0x7f8e808e20b2 in ???',\n",
       " '#9  0x5643b7edc9bd in ???',\n",
       " '#10  0xffffffffffffffff in ???']"
      ]
     },
     "execution_count": 91,
     "metadata": {},
     "output_type": "execute_result"
    }
   ],
   "source": [
    "minimisation_process_pmemd_igb0_ntb0.getStderr()"
   ]
  },
  {
   "cell_type": "code",
   "execution_count": 89,
   "id": "2303df39",
   "metadata": {},
   "outputs": [
    {
     "data": {
      "text/plain": [
       "False"
      ]
     },
     "execution_count": 89,
     "metadata": {},
     "output_type": "execute_result"
    }
   ],
   "source": [
    "minimisation_process_pmemd_igb6.isRunning()"
   ]
  },
  {
   "cell_type": "code",
   "execution_count": 96,
   "id": "53af0988",
   "metadata": {},
   "outputs": [
    {
     "data": {
      "text/plain": [
       "[44.0250 kcal/mol]"
      ]
     },
     "execution_count": 96,
     "metadata": {},
     "output_type": "execute_result"
    }
   ],
   "source": [
    "minimisation_process_pmemd_igb6.getTotalEnergy(time_series=True)"
   ]
  },
  {
   "cell_type": "markdown",
   "id": "98bd24a0",
   "metadata": {},
   "source": [
    "#### Final energy 1.5484E+01 "
   ]
  },
  {
   "cell_type": "markdown",
   "id": "14ce535e",
   "metadata": {},
   "source": [
    "## Minimise with pmemd.cuda and igb = 1"
   ]
  },
  {
   "cell_type": "code",
   "execution_count": 63,
   "id": "d8c2f202",
   "metadata": {},
   "outputs": [],
   "source": [
    "minimisation_process_pmemdcuda_igb1 = BSS.Process.Amber(mif_180, minimisation_protocol, exe = '/home/finlayclark/software/amber20/bin/pmemd.cuda',work_dir='notebook_work_dir/pmemdcuda_igb1/')"
   ]
  },
  {
   "cell_type": "code",
   "execution_count": 64,
   "id": "0ed69b3a",
   "metadata": {},
   "outputs": [
    {
     "data": {
      "text/plain": [
       "BioSimSpace.Process.Amber(<BioSimSpace.System: nMolecules=1>, BioSimSpace.Protocol.Minimisation(steps=1000), exe='/home/finlayclark/software/amber20/bin/pmemd.cuda', name='amber', work_dir='/home/finlayclark/Documents/research/restraint_comparison_mif/testing/dg_hyd/mif180_own_param/vacuum/input/hydration_free_energy_minimisation/notebook_work_dir/pmemdcuda_igb1/', seed=None)"
      ]
     },
     "execution_count": 64,
     "metadata": {},
     "output_type": "execute_result"
    }
   ],
   "source": [
    "minimisation_process_pmemdcuda_igb1.start()"
   ]
  },
  {
   "cell_type": "code",
   "execution_count": 66,
   "id": "ce012f10",
   "metadata": {},
   "outputs": [
    {
     "data": {
      "text/plain": [
       "['Note: The following floating-point exceptions are signalling: IEEE_INVALID_FLAG IEEE_DENORMAL']"
      ]
     },
     "execution_count": 66,
     "metadata": {},
     "output_type": "execute_result"
    }
   ],
   "source": [
    "minimisation_process_pmemdcuda_igb1.getStderr()"
   ]
  },
  {
   "cell_type": "code",
   "execution_count": 67,
   "id": "9d2cd423",
   "metadata": {},
   "outputs": [
    {
     "data": {
      "text/plain": [
       "False"
      ]
     },
     "execution_count": 67,
     "metadata": {},
     "output_type": "execute_result"
    }
   ],
   "source": [
    "minimisation_process_pmemdcuda_igb1.isRunning()"
   ]
  },
  {
   "cell_type": "code",
   "execution_count": 68,
   "id": "4afa3604",
   "metadata": {},
   "outputs": [
    {
     "data": {
      "text/plain": [
       "19.0040 kcal/mol"
      ]
     },
     "execution_count": 68,
     "metadata": {},
     "output_type": "execute_result"
    }
   ],
   "source": [
    "minimisation_process_pmemdcuda_igb1.getTotalEnergy()"
   ]
  },
  {
   "cell_type": "markdown",
   "id": "27a1b35b",
   "metadata": {},
   "source": [
    "#### Final energy -1.0821E+01"
   ]
  },
  {
   "cell_type": "markdown",
   "id": "66a7456c",
   "metadata": {},
   "source": [
    "## Minimise with pmemd.cuda and igb = 1, extdiel=1.0"
   ]
  },
  {
   "cell_type": "code",
   "execution_count": 69,
   "id": "cdfba5e9",
   "metadata": {},
   "outputs": [],
   "source": [
    "minimisation_process_pmemdcuda_igb1_extdiel1 = BSS.Process.Amber(mif_180, minimisation_protocol, exe = '/home/finlayclark/software/amber20/bin/pmemd.cuda',work_dir='notebook_work_dir/pmemdcuda_igb1_extdiel1/')"
   ]
  },
  {
   "cell_type": "code",
   "execution_count": 70,
   "id": "7dc0672f",
   "metadata": {},
   "outputs": [
    {
     "data": {
      "text/plain": [
       "BioSimSpace.Process.Amber(<BioSimSpace.System: nMolecules=1>, BioSimSpace.Protocol.Minimisation(steps=1000), exe='/home/finlayclark/software/amber20/bin/pmemd.cuda', name='amber', work_dir='/home/finlayclark/Documents/research/restraint_comparison_mif/testing/dg_hyd/mif180_own_param/vacuum/input/hydration_free_energy_minimisation/notebook_work_dir/pmemdcuda_igb1_extdiel1/', seed=None)"
      ]
     },
     "execution_count": 70,
     "metadata": {},
     "output_type": "execute_result"
    }
   ],
   "source": [
    "minimisation_process_pmemdcuda_igb1_extdiel1.start()"
   ]
  },
  {
   "cell_type": "code",
   "execution_count": 71,
   "id": "48324fae",
   "metadata": {},
   "outputs": [
    {
     "data": {
      "text/plain": [
       "['Note: The following floating-point exceptions are signalling: IEEE_INVALID_FLAG IEEE_DENORMAL']"
      ]
     },
     "execution_count": 71,
     "metadata": {},
     "output_type": "execute_result"
    }
   ],
   "source": [
    "minimisation_process_pmemdcuda_igb1_extdiel1.getStderr()"
   ]
  },
  {
   "cell_type": "code",
   "execution_count": 72,
   "id": "267c6136",
   "metadata": {},
   "outputs": [
    {
     "data": {
      "text/plain": [
       "False"
      ]
     },
     "execution_count": 72,
     "metadata": {},
     "output_type": "execute_result"
    }
   ],
   "source": [
    "minimisation_process_pmemdcuda_igb1_extdiel1.isRunning()"
   ]
  },
  {
   "cell_type": "code",
   "execution_count": 73,
   "id": "f11ac035",
   "metadata": {},
   "outputs": [
    {
     "data": {
      "text/plain": [
       "19.0040 kcal/mol"
      ]
     },
     "execution_count": 73,
     "metadata": {},
     "output_type": "execute_result"
    }
   ],
   "source": [
    "minimisation_process_pmemdcuda_igb1_extdiel1.getTotalEnergy()"
   ]
  },
  {
   "cell_type": "markdown",
   "id": "58c035fe",
   "metadata": {},
   "source": [
    "#### Final energy -1.0821E+01 "
   ]
  },
  {
   "cell_type": "markdown",
   "id": "8573cab3",
   "metadata": {},
   "source": [
    "## Minimise with pmemd.cuda and igb = 1, extdiel=1.0 repeat"
   ]
  },
  {
   "cell_type": "code",
   "execution_count": 99,
   "id": "16067fd6",
   "metadata": {},
   "outputs": [],
   "source": [
    "minimisation_process_pmemdcuda_igb1_extdiel1_repeat = BSS.Process.Amber(mif_180, minimisation_protocol, exe = '/home/finlayclark/software/amber20/bin/pmemd.cuda',work_dir='notebook_work_dir/pmemdcuda_igb1_extdiel1_repeat/')"
   ]
  },
  {
   "cell_type": "code",
   "execution_count": 100,
   "id": "f7a0127c",
   "metadata": {},
   "outputs": [
    {
     "data": {
      "text/plain": [
       "BioSimSpace.Process.Amber(<BioSimSpace.System: nMolecules=1>, BioSimSpace.Protocol.Minimisation(steps=1000), exe='/home/finlayclark/software/amber20/bin/pmemd.cuda', name='amber', work_dir='/home/finlayclark/Documents/research/restraint_comparison_mif/testing/dg_hyd/mif180_own_param/vacuum/input/hydration_free_energy_minimisation/notebook_work_dir/pmemdcuda_igb1_extdiel1_repeat/', seed=None)"
      ]
     },
     "execution_count": 100,
     "metadata": {},
     "output_type": "execute_result"
    }
   ],
   "source": [
    "minimisation_process_pmemdcuda_igb1_extdiel1_repeat.start()"
   ]
  },
  {
   "cell_type": "code",
   "execution_count": 101,
   "id": "211d58c5",
   "metadata": {},
   "outputs": [
    {
     "data": {
      "text/plain": [
       "['Note: The following floating-point exceptions are signalling: IEEE_INVALID_FLAG IEEE_DENORMAL']"
      ]
     },
     "execution_count": 101,
     "metadata": {},
     "output_type": "execute_result"
    }
   ],
   "source": [
    "minimisation_process_pmemdcuda_igb1_extdiel1_repeat.getStderr()"
   ]
  },
  {
   "cell_type": "code",
   "execution_count": 102,
   "id": "a9836ffb",
   "metadata": {},
   "outputs": [
    {
     "data": {
      "text/plain": [
       "False"
      ]
     },
     "execution_count": 102,
     "metadata": {},
     "output_type": "execute_result"
    }
   ],
   "source": [
    "minimisation_process_pmemdcuda_igb1_extdiel1_repeat.isRunning()"
   ]
  },
  {
   "cell_type": "code",
   "execution_count": 104,
   "id": "b6d8fcc5",
   "metadata": {},
   "outputs": [
    {
     "data": {
      "text/plain": [
       "[19.0040 kcal/mol]"
      ]
     },
     "execution_count": 104,
     "metadata": {},
     "output_type": "execute_result"
    }
   ],
   "source": [
    "minimisation_process_pmemdcuda_igb1_extdiel1_repeat.getTotalEnergy(time_series=True)"
   ]
  },
  {
   "cell_type": "markdown",
   "id": "2c57a30e",
   "metadata": {},
   "source": [
    "#### Final energy -1.0821E+01 "
   ]
  },
  {
   "cell_type": "markdown",
   "id": "7d3d962a",
   "metadata": {},
   "source": [
    "## Minimise with pmemd.cuda and igb = 1, extdiel=30"
   ]
  },
  {
   "cell_type": "code",
   "execution_count": 127,
   "id": "5bcd385a",
   "metadata": {},
   "outputs": [],
   "source": [
    "minimisation_process_pmemdcuda_igb1_extdiel30 = BSS.Process.Amber(mif_180, minimisation_protocol, exe = '/home/finlayclark/software/amber20/bin/pmemd.cuda',work_dir='notebook_work_dir/pmemdcuda_igb1_extdiel30/')"
   ]
  },
  {
   "cell_type": "code",
   "execution_count": 128,
   "id": "06d5b294",
   "metadata": {},
   "outputs": [
    {
     "data": {
      "text/plain": [
       "BioSimSpace.Process.Amber(<BioSimSpace.System: nMolecules=1>, BioSimSpace.Protocol.Minimisation(steps=1000), exe='/home/finlayclark/software/amber20/bin/pmemd.cuda', name='amber', work_dir='/home/finlayclark/Documents/research/restraint_comparison_mif/testing/dg_hyd/mif180_own_param/vacuum/input/hydration_free_energy_minimisation/notebook_work_dir/pmemdcuda_igb1_extdiel30/', seed=None)"
      ]
     },
     "execution_count": 128,
     "metadata": {},
     "output_type": "execute_result"
    }
   ],
   "source": [
    "minimisation_process_pmemdcuda_igb1_extdiel30.start()"
   ]
  },
  {
   "cell_type": "code",
   "execution_count": 129,
   "id": "2ebee23b",
   "metadata": {},
   "outputs": [
    {
     "data": {
      "text/plain": [
       "['Note: The following floating-point exceptions are signalling: IEEE_INVALID_FLAG IEEE_DENORMAL']"
      ]
     },
     "execution_count": 129,
     "metadata": {},
     "output_type": "execute_result"
    }
   ],
   "source": [
    "minimisation_process_pmemdcuda_igb1_extdiel30.getStderr()"
   ]
  },
  {
   "cell_type": "code",
   "execution_count": 130,
   "id": "1cf152a8",
   "metadata": {},
   "outputs": [
    {
     "data": {
      "text/plain": [
       "False"
      ]
     },
     "execution_count": 130,
     "metadata": {},
     "output_type": "execute_result"
    }
   ],
   "source": [
    "minimisation_process_pmemdcuda_igb1_extdiel30.isRunning()"
   ]
  },
  {
   "cell_type": "code",
   "execution_count": 131,
   "id": "4119c9de",
   "metadata": {},
   "outputs": [
    {
     "data": {
      "text/plain": [
       "[19.0040 kcal/mol]"
      ]
     },
     "execution_count": 131,
     "metadata": {},
     "output_type": "execute_result"
    }
   ],
   "source": [
    "minimisation_process_pmemdcuda_igb1_extdiel30.getTotalEnergy(time_series=True)"
   ]
  },
  {
   "cell_type": "markdown",
   "id": "63d5c799",
   "metadata": {},
   "source": [
    "#### Final energy -1.0821E+01 "
   ]
  },
  {
   "cell_type": "markdown",
   "id": "547cb460",
   "metadata": {},
   "source": [
    "## Minimise with pmemd.cuda and igb = 6"
   ]
  },
  {
   "cell_type": "code",
   "execution_count": 74,
   "id": "92cd6c3d",
   "metadata": {},
   "outputs": [],
   "source": [
    "minimisation_process_pmemdcuda_igb6 = BSS.Process.Amber(mif_180, minimisation_protocol, exe = '/home/finlayclark/software/amber20/bin/pmemd.cuda',work_dir='notebook_work_dir/pmemdcuda_igb6/')"
   ]
  },
  {
   "cell_type": "code",
   "execution_count": 75,
   "id": "0d477c79",
   "metadata": {},
   "outputs": [
    {
     "data": {
      "text/plain": [
       "BioSimSpace.Process.Amber(<BioSimSpace.System: nMolecules=1>, BioSimSpace.Protocol.Minimisation(steps=1000), exe='/home/finlayclark/software/amber20/bin/pmemd.cuda', name='amber', work_dir='/home/finlayclark/Documents/research/restraint_comparison_mif/testing/dg_hyd/mif180_own_param/vacuum/input/hydration_free_energy_minimisation/notebook_work_dir/pmemdcuda_igb6/', seed=None)"
      ]
     },
     "execution_count": 75,
     "metadata": {},
     "output_type": "execute_result"
    }
   ],
   "source": [
    "minimisation_process_pmemdcuda_igb6.start()"
   ]
  },
  {
   "cell_type": "code",
   "execution_count": 77,
   "id": "7a2c6d02",
   "metadata": {},
   "outputs": [
    {
     "data": {
      "text/plain": [
       "['Note: The following floating-point exceptions are signalling: IEEE_INVALID_FLAG IEEE_DENORMAL']"
      ]
     },
     "execution_count": 77,
     "metadata": {},
     "output_type": "execute_result"
    }
   ],
   "source": [
    "minimisation_process_pmemdcuda_igb6.getStderr()"
   ]
  },
  {
   "cell_type": "code",
   "execution_count": 78,
   "id": "f2806ae3",
   "metadata": {},
   "outputs": [
    {
     "data": {
      "text/plain": [
       "False"
      ]
     },
     "execution_count": 78,
     "metadata": {},
     "output_type": "execute_result"
    }
   ],
   "source": [
    "minimisation_process_pmemdcuda_igb6.isRunning()"
   ]
  },
  {
   "cell_type": "code",
   "execution_count": 81,
   "id": "38fa2778",
   "metadata": {},
   "outputs": [
    {
     "data": {
      "text/plain": [
       "[44.0250 kcal/mol]"
      ]
     },
     "execution_count": 81,
     "metadata": {},
     "output_type": "execute_result"
    }
   ],
   "source": [
    "minimisation_process_pmemdcuda_igb6.getTotalEnergy(time_series=True)"
   ]
  },
  {
   "cell_type": "code",
   "execution_count": 140,
   "id": "3245d54a",
   "metadata": {},
   "outputs": [],
   "source": [
    "test_syst = minimisation_process.getSystem()"
   ]
  },
  {
   "cell_type": "code",
   "execution_count": null,
   "id": "1ebdd0b7",
   "metadata": {},
   "outputs": [],
   "source": [
    "test_syst."
   ]
  },
  {
   "cell_type": "markdown",
   "id": "7684dd4d",
   "metadata": {},
   "source": [
    "#### Final energy 1.5483E+01"
   ]
  },
  {
   "cell_type": "markdown",
   "id": "b2af7ec7",
   "metadata": {},
   "source": [
    "## Minimise with pmemd.cuda Default Settings"
   ]
  },
  {
   "cell_type": "code",
   "execution_count": 82,
   "id": "dc1da587",
   "metadata": {},
   "outputs": [],
   "source": [
    "minimisation_process_pmemdcuda = BSS.Process.Amber(mif_180, minimisation_protocol, exe = '/home/finlayclark/software/amber20/bin/pmemd.cuda',work_dir='notebook_work_dir/pmemdcuda/')"
   ]
  },
  {
   "cell_type": "code",
   "execution_count": 83,
   "id": "8d3bcef5",
   "metadata": {},
   "outputs": [
    {
     "data": {
      "text/plain": [
       "BioSimSpace.Process.Amber(<BioSimSpace.System: nMolecules=1>, BioSimSpace.Protocol.Minimisation(steps=1000), exe='/home/finlayclark/software/amber20/bin/pmemd.cuda', name='amber', work_dir='/home/finlayclark/Documents/research/restraint_comparison_mif/testing/dg_hyd/mif180_own_param/vacuum/input/hydration_free_energy_minimisation/notebook_work_dir/pmemdcuda/', seed=None)"
      ]
     },
     "execution_count": 83,
     "metadata": {},
     "output_type": "execute_result"
    }
   ],
   "source": [
    "minimisation_process_pmemdcuda.start()"
   ]
  },
  {
   "cell_type": "code",
   "execution_count": 84,
   "id": "752cee6f",
   "metadata": {},
   "outputs": [
    {
     "data": {
      "text/plain": [
       "['',\n",
       " 'Program received signal SIGSEGV: Segmentation fault - invalid memory reference.',\n",
       " '',\n",
       " 'Backtrace for this error:',\n",
       " '#0  0x7f89e9da2d21 in ???',\n",
       " '#1  0x7f89e9da1ef5 in ???',\n",
       " '#2  0x7f89e9bb920f in ???',\n",
       " '#3  0x55f2cebc1e28 in ???',\n",
       " '#4  0x55f2ceac49a0 in ???',\n",
       " '#5  0x55f2ceaa1a55 in ???',\n",
       " '#6  0x55f2ce9e752e in ???',\n",
       " '#7  0x7f89e9b9a0b2 in ???',\n",
       " '#8  0x55f2ce9f87ed in ???',\n",
       " '#9  0xffffffffffffffff in ???']"
      ]
     },
     "execution_count": 84,
     "metadata": {},
     "output_type": "execute_result"
    }
   ],
   "source": [
    "minimisation_process_pmemdcuda.getStderr()"
   ]
  },
  {
   "cell_type": "code",
   "execution_count": 72,
   "id": "d506cd2c",
   "metadata": {},
   "outputs": [
    {
     "data": {
      "text/plain": [
       "False"
      ]
     },
     "execution_count": 72,
     "metadata": {},
     "output_type": "execute_result"
    }
   ],
   "source": [
    "minimisation_process_pmemdcuda_igb1_extdiel1.isRunning()"
   ]
  },
  {
   "cell_type": "code",
   "execution_count": 73,
   "id": "307658b5",
   "metadata": {},
   "outputs": [
    {
     "data": {
      "text/plain": [
       "19.0040 kcal/mol"
      ]
     },
     "execution_count": 73,
     "metadata": {},
     "output_type": "execute_result"
    }
   ],
   "source": [
    "minimisation_process_pmemdcuda_igb1_extdiel1.getTotalEnergy()"
   ]
  },
  {
   "cell_type": "code",
   "execution_count": null,
   "id": "5a7410e7",
   "metadata": {},
   "outputs": [],
   "source": []
  },
  {
   "cell_type": "markdown",
   "id": "c86178c7",
   "metadata": {},
   "source": [
    "## Minimise with pmemd.cuda and igb = 0"
   ]
  },
  {
   "cell_type": "code",
   "execution_count": 92,
   "id": "db9773e9",
   "metadata": {},
   "outputs": [],
   "source": [
    "minimisation_process_pmemdcuda_igb0 = BSS.Process.Amber(mif_180, minimisation_protocol, exe = '/home/finlayclark/software/amber20/bin/pmemd.cuda',work_dir='notebook_work_dir/pmemdcuda_igb0/')"
   ]
  },
  {
   "cell_type": "code",
   "execution_count": 94,
   "id": "7051e7aa",
   "metadata": {},
   "outputs": [
    {
     "data": {
      "text/plain": [
       "BioSimSpace.Process.Amber(<BioSimSpace.System: nMolecules=1>, BioSimSpace.Protocol.Minimisation(steps=1000), exe='/home/finlayclark/software/amber20/bin/pmemd.cuda', name='amber', work_dir='/home/finlayclark/Documents/research/restraint_comparison_mif/testing/dg_hyd/mif180_own_param/vacuum/input/hydration_free_energy_minimisation/notebook_work_dir/pmemdcuda_igb0/', seed=None)"
      ]
     },
     "execution_count": 94,
     "metadata": {},
     "output_type": "execute_result"
    }
   ],
   "source": [
    "minimisation_process_pmemdcuda_igb0.start()"
   ]
  },
  {
   "cell_type": "code",
   "execution_count": 95,
   "id": "14242471",
   "metadata": {},
   "outputs": [
    {
     "data": {
      "text/plain": [
       "['',\n",
       " 'Program received signal SIGSEGV: Segmentation fault - invalid memory reference.',\n",
       " '',\n",
       " 'Backtrace for this error:',\n",
       " '#0  0x7f5dfd469d21 in ???',\n",
       " '#1  0x7f5dfd468ef5 in ???',\n",
       " '#2  0x7f5dfd28020f in ???',\n",
       " '#3  0x5651c855ee28 in ???',\n",
       " '#4  0x5651c84619a0 in ???',\n",
       " '#5  0x5651c843ea55 in ???',\n",
       " '#6  0x5651c838452e in ???',\n",
       " '#7  0x7f5dfd2610b2 in ???',\n",
       " '#8  0x5651c83957ed in ???',\n",
       " '#9  0xffffffffffffffff in ???']"
      ]
     },
     "execution_count": 95,
     "metadata": {},
     "output_type": "execute_result"
    }
   ],
   "source": [
    "minimisation_process_pmemdcuda_igb0.getStderr()"
   ]
  },
  {
   "cell_type": "code",
   "execution_count": 78,
   "id": "512207b6",
   "metadata": {},
   "outputs": [
    {
     "data": {
      "text/plain": [
       "False"
      ]
     },
     "execution_count": 78,
     "metadata": {},
     "output_type": "execute_result"
    }
   ],
   "source": [
    "minimisation_process_pmemdcuda_igb6.isRunning()"
   ]
  },
  {
   "cell_type": "code",
   "execution_count": 81,
   "id": "55adb3c8",
   "metadata": {},
   "outputs": [
    {
     "data": {
      "text/plain": [
       "[44.0250 kcal/mol]"
      ]
     },
     "execution_count": 81,
     "metadata": {},
     "output_type": "execute_result"
    }
   ],
   "source": [
    "minimisation_process_pmemdcuda_igb6.getTotalEnergy(time_series=True)"
   ]
  },
  {
   "cell_type": "markdown",
   "id": "3839885f",
   "metadata": {},
   "source": [
    "#### Final energy 1.5483E+01"
   ]
  },
  {
   "cell_type": "markdown",
   "id": "e352c9f6",
   "metadata": {},
   "source": [
    "## Minimise with pmemd and igb =1, extdiel = 30"
   ]
  },
  {
   "cell_type": "code",
   "execution_count": 123,
   "id": "c17235d6",
   "metadata": {},
   "outputs": [],
   "source": [
    "minimisation_process_pmemd_igb1_extdiel30 = BSS.Process.Amber(mif_180, minimisation_protocol, exe = '/home/finlayclark/software/amber20/bin/pmemd',work_dir='notebook_work_dir/pmemd_igb1_extdiel30/')"
   ]
  },
  {
   "cell_type": "code",
   "execution_count": 124,
   "id": "789bdbba",
   "metadata": {},
   "outputs": [
    {
     "data": {
      "text/plain": [
       "BioSimSpace.Process.Amber(<BioSimSpace.System: nMolecules=1>, BioSimSpace.Protocol.Minimisation(steps=1000), exe='/home/finlayclark/software/amber20/bin/pmemd', name='amber', work_dir='/home/finlayclark/Documents/research/restraint_comparison_mif/testing/dg_hyd/mif180_own_param/vacuum/input/hydration_free_energy_minimisation/notebook_work_dir/pmemd_igb1_extdiel30/', seed=None)"
      ]
     },
     "execution_count": 124,
     "metadata": {},
     "output_type": "execute_result"
    }
   ],
   "source": [
    "minimisation_process_pmemd_igb1_extdiel30.start()"
   ]
  },
  {
   "cell_type": "code",
   "execution_count": 125,
   "id": "9514d8d6",
   "metadata": {},
   "outputs": [
    {
     "data": {
      "text/plain": [
       "['Note: The following floating-point exceptions are signalling: IEEE_INVALID_FLAG']"
      ]
     },
     "execution_count": 125,
     "metadata": {},
     "output_type": "execute_result"
    }
   ],
   "source": [
    "minimisation_process_pmemd_igb1_extdiel30.getStderr()"
   ]
  },
  {
   "cell_type": "code",
   "execution_count": 126,
   "id": "4590d39c",
   "metadata": {},
   "outputs": [
    {
     "data": {
      "text/plain": [
       "31.3530 kcal/mol"
      ]
     },
     "execution_count": 126,
     "metadata": {},
     "output_type": "execute_result"
    }
   ],
   "source": [
    "minimisation_process_pmemd_igb1_extdiel30.getTotalEnergy()"
   ]
  },
  {
   "cell_type": "markdown",
   "id": "f06b1700",
   "metadata": {},
   "source": [
    "#### Final energy 1.5484E+01"
   ]
  }
 ],
 "metadata": {
  "kernelspec": {
   "display_name": "Python 3 (ipykernel)",
   "language": "python",
   "name": "python3"
  },
  "language_info": {
   "codemirror_mode": {
    "name": "ipython",
    "version": 3
   },
   "file_extension": ".py",
   "mimetype": "text/x-python",
   "name": "python",
   "nbconvert_exporter": "python",
   "pygments_lexer": "ipython3",
   "version": "3.7.8"
  }
 },
 "nbformat": 4,
 "nbformat_minor": 5
}

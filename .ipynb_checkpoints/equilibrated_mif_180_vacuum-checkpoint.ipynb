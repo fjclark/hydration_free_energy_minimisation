{
 "cells": [
  {
   "cell_type": "code",
   "execution_count": 1,
   "id": "d8506bb7",
   "metadata": {},
   "outputs": [
    {
     "name": "stderr",
     "output_type": "stream",
     "text": [
      "/home/finlayclark/anaconda3/envs/biosimspace-dev/lib/python3.7/site-packages/BioSimSpace/Process/_amber.py:296: UserWarning: No simulation box found. Assuming gas phase simulation.\n",
      "  _warnings.warn(\"No simulation box found. Assuming gas phase simulation.\")\n",
      "/home/finlayclark/anaconda3/envs/biosimspace-dev/lib/python3.7/site-packages/BioSimSpace/Process/_amber.py:296: UserWarning: No simulation box found. Assuming gas phase simulation.\n",
      "  _warnings.warn(\"No simulation box found. Assuming gas phase simulation.\")\n",
      "/home/finlayclark/anaconda3/envs/biosimspace-dev/lib/python3.7/site-packages/BioSimSpace/Process/_amber.py:939: UserWarning: The process exited with an error!\n",
      "  _warnings.warn(\"The process exited with an error!\")\n",
      "/home/finlayclark/anaconda3/envs/biosimspace-dev/lib/python3.7/site-packages/BioSimSpace/Process/_amber.py:939: UserWarning: The process exited with an error!\n",
      "  _warnings.warn(\"The process exited with an error!\")\n",
      "/home/finlayclark/anaconda3/envs/biosimspace-dev/lib/python3.7/site-packages/BioSimSpace/Process/_amber.py:939: UserWarning: The process exited with an error!\n",
      "  _warnings.warn(\"The process exited with an error!\")\n",
      "/home/finlayclark/anaconda3/envs/biosimspace-dev/lib/python3.7/site-packages/BioSimSpace/Process/_amber.py:296: UserWarning: No simulation box found. Assuming gas phase simulation.\n",
      "  _warnings.warn(\"No simulation box found. Assuming gas phase simulation.\")\n",
      "/home/finlayclark/anaconda3/envs/biosimspace-dev/lib/python3.7/site-packages/BioSimSpace/Process/_amber.py:296: UserWarning: No simulation box found. Assuming gas phase simulation.\n",
      "  _warnings.warn(\"No simulation box found. Assuming gas phase simulation.\")\n",
      "/home/finlayclark/anaconda3/envs/biosimspace-dev/lib/python3.7/site-packages/BioSimSpace/Process/_amber.py:296: UserWarning: No simulation box found. Assuming gas phase simulation.\n",
      "  _warnings.warn(\"No simulation box found. Assuming gas phase simulation.\")\n",
      "/home/finlayclark/anaconda3/envs/biosimspace-dev/lib/python3.7/site-packages/BioSimSpace/Process/_amber.py:296: UserWarning: No simulation box found. Assuming gas phase simulation.\n",
      "  _warnings.warn(\"No simulation box found. Assuming gas phase simulation.\")\n",
      "/home/finlayclark/anaconda3/envs/biosimspace-dev/lib/python3.7/site-packages/BioSimSpace/Process/_amber.py:296: UserWarning: No simulation box found. Assuming gas phase simulation.\n",
      "  _warnings.warn(\"No simulation box found. Assuming gas phase simulation.\")\n"
     ]
    }
   ],
   "source": [
    "import BioSimSpace as BSS"
   ]
  },
  {
   "cell_type": "markdown",
   "id": "37e02fb4",
   "metadata": {},
   "source": [
    "### Read in MIF 180"
   ]
  },
  {
   "cell_type": "code",
   "execution_count": 2,
   "id": "357c86c6",
   "metadata": {},
   "outputs": [
    {
     "name": "stdout",
     "output_type": "stream",
     "text": [
      "\n",
      "==============================================================\n",
      "Sending anonymous Sire usage statistics to http://siremol.org.\n",
      "For more information, see http://siremol.org/analytics\n",
      "To disable, set the environment variable 'SIRE_DONT_PHONEHOME' to 1\n",
      "To see the information sent, set the environment variable \n",
      "SIRE_VERBOSE_PHONEHOME equal to 1. To silence this message, set\n",
      "the environment variable SIRE_SILENT_PHONEHOME to 1.\n",
      "==============================================================\n",
      "\n"
     ]
    }
   ],
   "source": [
    "mif_180 = BSS.IO.readMolecules([\"mif180_ligand.prm7\",\"mif180_ligand.rst7\"])"
   ]
  },
  {
   "cell_type": "code",
   "execution_count": 3,
   "id": "6bf99a5c",
   "metadata": {},
   "outputs": [
    {
     "data": {
      "application/vnd.jupyter.widget-view+json": {
       "model_id": "0a40244f400e47c68abf25557cf09a6d",
       "version_major": 2,
       "version_minor": 0
      },
      "text/plain": []
     },
     "metadata": {},
     "output_type": "display_data"
    },
    {
     "data": {
      "application/vnd.jupyter.widget-view+json": {
       "model_id": "bfd6b91fdaf445f1b7e45c10f1f7fb2d",
       "version_major": 2,
       "version_minor": 0
      },
      "text/plain": [
       "ThemeManager()"
      ]
     },
     "metadata": {},
     "output_type": "display_data"
    },
    {
     "data": {
      "application/vnd.jupyter.widget-view+json": {
       "model_id": "df946f5fe8cb42e6ace5623d4a57d3f9",
       "version_major": 2,
       "version_minor": 0
      },
      "text/plain": [
       "NGLWidget(gui_style='ngl')"
      ]
     },
     "metadata": {},
     "output_type": "display_data"
    }
   ],
   "source": [
    "view = BSS.Notebook.View(mif_180)\n",
    "view.system()"
   ]
  },
  {
   "cell_type": "markdown",
   "id": "8e3ae8e6",
   "metadata": {},
   "source": [
    "## Minimise"
   ]
  },
  {
   "cell_type": "code",
   "execution_count": 13,
   "id": "4061d19b",
   "metadata": {},
   "outputs": [],
   "source": [
    "minimisation_protocol = BSS.Protocol.Minimisation(steps = 1000)"
   ]
  },
  {
   "cell_type": "code",
   "execution_count": 14,
   "id": "2f7cd3e7",
   "metadata": {},
   "outputs": [],
   "source": [
    "minimisation_process = BSS.Process.Amber(mif_180, minimisation_protocol, exe = '/home/finlayclark/software/amber20/bin/pmemd')"
   ]
  },
  {
   "cell_type": "code",
   "execution_count": 15,
   "id": "8fd2d140",
   "metadata": {},
   "outputs": [
    {
     "data": {
      "text/plain": [
       "BioSimSpace.Process.Amber(<BioSimSpace.System: nMolecules=1>, BioSimSpace.Protocol.Minimisation(steps=1000), exe='/home/finlayclark/software/amber20/bin/pmemd', name='amber', work_dir='/tmp/tmpyrd46_2q', seed=None)"
      ]
     },
     "execution_count": 15,
     "metadata": {},
     "output_type": "execute_result"
    }
   ],
   "source": [
    "minimisation_process.start()"
   ]
  },
  {
   "cell_type": "code",
   "execution_count": 43,
   "id": "1f3364fb",
   "metadata": {},
   "outputs": [],
   "source": [
    "minimisation_process.getTotalEnergy()"
   ]
  },
  {
   "cell_type": "code",
   "execution_count": 9,
   "id": "3edf7650",
   "metadata": {},
   "outputs": [],
   "source": [
    "mif_180_minimised = minimisation_process.getSystem()"
   ]
  },
  {
   "cell_type": "code",
   "execution_count": 17,
   "id": "1de3ed69",
   "metadata": {},
   "outputs": [],
   "source": [
    "minimisation_process.getTotalEnergy(time_series=True)"
   ]
  },
  {
   "cell_type": "code",
   "execution_count": 10,
   "id": "3ef7f6fe",
   "metadata": {},
   "outputs": [
    {
     "data": {
      "application/vnd.jupyter.widget-view+json": {
       "model_id": "",
       "version_major": 2,
       "version_minor": 0
      },
      "text/plain": [
       "NGLWidget(gui_style='ngl')"
      ]
     },
     "metadata": {},
     "output_type": "display_data"
    }
   ],
   "source": [
    "view = BSS.Notebook.View(mif_180_minimised)\n",
    "view.system()"
   ]
  },
  {
   "cell_type": "code",
   "execution_count": 11,
   "id": "5e17c0aa",
   "metadata": {},
   "outputs": [
    {
     "data": {
      "text/plain": [
       "['Minimisation',\n",
       " ' &cntrl',\n",
       " '  imin=1,',\n",
       " '  ntx=1,',\n",
       " '  ntxo=1,',\n",
       " '  ntpr=100,',\n",
       " '  irest=0,',\n",
       " '  maxcyc=1000,',\n",
       " '  ncyc=1000,',\n",
       " '  ntb=0,',\n",
       " '  cut=999.,',\n",
       " ' /']"
      ]
     },
     "execution_count": 11,
     "metadata": {},
     "output_type": "execute_result"
    }
   ],
   "source": [
    "minimisation_process.getConfig()"
   ]
  },
  {
   "cell_type": "code",
   "execution_count": 21,
   "id": "a1485a73",
   "metadata": {},
   "outputs": [
    {
     "data": {
      "text/plain": [
       "['/home/finlayclark/Documents/research/restraint_comparison_mif/testing/dg_hyd/mif180_own_param/vacuum/input/hydration_free_energy_minimisation/pmemd_minimised_mif_180.prm7',\n",
       " '/home/finlayclark/Documents/research/restraint_comparison_mif/testing/dg_hyd/mif180_own_param/vacuum/input/hydration_free_energy_minimisation/pmemd_minimised_mif_180.rst7',\n",
       " '/home/finlayclark/Documents/research/restraint_comparison_mif/testing/dg_hyd/mif180_own_param/vacuum/input/hydration_free_energy_minimisation/pmemd_minimised_mif_180.pdb']"
      ]
     },
     "execution_count": 21,
     "metadata": {},
     "output_type": "execute_result"
    }
   ],
   "source": [
    "BSS.IO.saveMolecules('pmemd_minimised_mif_180',mif_180_minimised,['PRM7','RST7','PDB'])"
   ]
  },
  {
   "cell_type": "code",
   "execution_count": 30,
   "id": "c08f47f4",
   "metadata": {},
   "outputs": [
    {
     "name": "stdout",
     "output_type": "stream",
     "text": [
      "BioSimSpace Syst\n",
      "\n",
      "BioSimSpace System\n",
      "\n",
      "False\n",
      "   34\n",
      "\n",
      "   34\n",
      "\n",
      "True\n",
      " -10.3654934  -0.9881943  -7.5835731 -11.7027717  -1.2101251  -7.8828515\n",
      "\n",
      " -10.3650000  -0.9880000  -7.5860000 -11.7020000  -1.2100000  -7.8920000\n",
      "\n",
      "False\n",
      " -17.2713521  -1.9143405   2.4944516 -15.0503310  -2.5993556   3.0788934\n",
      "\n",
      " -17.2630000  -1.9120000   2.4760000 -15.0520000  -2.6020000   3.0910000\n",
      "\n",
      "False\n",
      " -16.8301106  -1.7058130   1.1625344 -14.6222154  -2.4021934   1.7966342\n",
      "\n",
      " -16.8360000  -1.7050000   1.1660000 -14.6170000  -2.4020000   1.7920000\n",
      "\n",
      "False\n",
      " -11.4386469  -0.9581356  -2.9130715  -9.9438794  -0.8549565  -6.2677441\n",
      "\n",
      " -11.4320000  -0.9580000  -2.9140000  -9.9400000  -0.8540000  -6.2680000\n",
      "\n",
      "False\n",
      " -12.6157904  -1.3195731  -6.8568986 -10.4714248  -0.8372234  -3.9189990\n",
      "\n",
      " -12.6180000  -1.3200000  -6.8610000 -10.4680000  -0.8370000  -3.9180000\n",
      "\n",
      "False\n",
      " -13.7226015  -1.5350023  -0.8820195 -16.3573343  -2.3634600   3.4192861\n",
      "\n",
      " -13.7320000  -1.5370000  -0.8640000 -16.3670000  -2.3670000   3.4390000\n",
      "\n",
      "False\n",
      " -12.7483456  -1.1649470  -3.2617145 -13.7666550  -1.3358995  -2.2493983\n",
      "\n",
      " -12.7580000  -1.1620000  -3.2670000 -13.7710000  -1.3380000  -2.2250000\n",
      "\n",
      "False\n",
      " -15.5012037  -1.9515798   0.8177397 -10.8634420  -0.9549639  -5.2475505\n",
      "\n",
      " -15.5030000  -1.9520000   0.8200000 -10.8640000  -0.9560000  -5.2440000\n",
      "\n",
      "False\n",
      " -12.2202961  -1.1900466  -5.5194114 -15.0659827  -1.4803026  -2.6121147\n",
      "\n",
      " -12.2080000  -1.1880000  -5.5380000 -15.0520000  -1.4760000  -2.6490000\n",
      "\n",
      "False\n",
      " -15.8126646  -1.6877660  -1.6158157 -13.1268002  -1.2962093  -4.5352032\n",
      "\n",
      " -15.8170000  -1.6880000  -1.6100000 -13.1240000  -1.2930000  -4.5510000\n",
      "\n",
      "False\n",
      " -15.0289599  -1.7380501  -0.5083584 -16.7347503  -2.5947985   4.7282117\n",
      "\n",
      " -15.0250000  -1.7380000  -0.5090000 -16.7470000  -2.5960000   4.7330000\n",
      "\n",
      "False\n",
      "  -9.6737975  -0.9206314  -8.3533058 -12.0109416  -1.2926208  -8.8762782\n",
      "\n",
      "  -9.6750000  -0.9210000  -8.3500000 -12.0070000  -1.2920000  -8.8740000\n",
      "\n",
      "False\n",
      " -18.2510831  -1.7273788   2.7319087 -14.3807704  -2.9281322   3.7920327\n",
      "\n",
      " -18.2450000  -1.7280000   2.7330000 -14.3860000  -2.9300000   3.8070000\n",
      "\n",
      "False\n",
      " -17.4999232  -1.3679755   0.4438179 -13.6264621  -2.5874970   1.5410494\n",
      "\n",
      " -17.5020000  -1.3700000   0.4520000 -13.6320000  -2.5870000   1.5450000\n",
      "\n",
      "False\n",
      " -11.1588370  -0.8966582  -1.9130929  -8.9410416  -0.6789000  -6.0576547\n",
      "\n",
      " -11.1610000  -0.8960000  -1.9200000  -8.9450000  -0.6800000  -6.0570000\n",
      "\n",
      "False\n",
      " -13.6150265  -1.5017029  -7.0781849  -9.4747534  -0.6616226  -3.6766071\n",
      "\n",
      " -13.6110000  -1.5010000  -7.0750000  -9.4790000  -0.6620000  -3.6790000\n",
      "\n",
      "False\n",
      " -12.9038125  -1.5348465  -0.2332717 -17.6434993  -2.4430980   4.9845595\n",
      "\n",
      " -12.9030000  -1.5340000  -0.2500000 -17.6340000  -2.4440000   4.9950000\n",
      "\n",
      "False\n"
     ]
    }
   ],
   "source": [
    "with open('pmemd_minimised_mif_180.rst7','r') as sys1:\n",
    "    with open('mif180_ligand.rst7','r') as sys2:\n",
    "        sys1_lines = sys1.readlines()\n",
    "        sys2_lines = sys2.readlines()\n",
    "        for i,line in enumerate(sys1_lines):\n",
    "            print(sys1_lines[i])\n",
    "            print(sys2_lines[i])\n",
    "            print(sys1_lines[i]==sys2_lines[i])"
   ]
  },
  {
   "cell_type": "code",
   "execution_count": 31,
   "id": "9a327cbc",
   "metadata": {},
   "outputs": [
    {
     "data": {
      "text/plain": [
       "BioSimSpace._SireWrappers._system.System"
      ]
     },
     "execution_count": 31,
     "metadata": {},
     "output_type": "execute_result"
    }
   ],
   "source": [
    "type(mif_180)"
   ]
  },
  {
   "cell_type": "code",
   "execution_count": 32,
   "id": "de22f4a5",
   "metadata": {},
   "outputs": [
    {
     "data": {
      "text/plain": [
       "BioSimSpace._SireWrappers._system.System"
      ]
     },
     "execution_count": 32,
     "metadata": {},
     "output_type": "execute_result"
    }
   ],
   "source": [
    "type(mif_180_minimised)"
   ]
  },
  {
   "cell_type": "code",
   "execution_count": 38,
   "id": "332626e8",
   "metadata": {},
   "outputs": [],
   "source": [
    "sire_syst = mif_180_minimised._getSireObject()"
   ]
  },
  {
   "cell_type": "code",
   "execution_count": 42,
   "id": "89ec75e4",
   "metadata": {},
   "outputs": [
    {
     "data": {
      "text/plain": [
       "<bound method energy of System( name=BioSimSpace Syst, nForceFields=0, nMolecules=1 nMonitors()=0 )>"
      ]
     },
     "execution_count": 42,
     "metadata": {},
     "output_type": "execute_result"
    }
   ],
   "source": [
    "sire_syst.energy"
   ]
  },
  {
   "cell_type": "code",
   "execution_count": null,
   "id": "e4b0a7c0",
   "metadata": {},
   "outputs": [],
   "source": []
  },
  {
   "cell_type": "markdown",
   "id": "b2005449",
   "metadata": {},
   "source": [
    "## Minimise with pmemd.cuda"
   ]
  },
  {
   "cell_type": "code",
   "execution_count": 50,
   "id": "5b1c63b5",
   "metadata": {},
   "outputs": [],
   "source": [
    "minimisation_protocol = BSS.Protocol.Minimisation(steps = 1000)"
   ]
  },
  {
   "cell_type": "code",
   "execution_count": 51,
   "id": "277a57fd",
   "metadata": {},
   "outputs": [],
   "source": [
    "minimisation_process = BSS.Process.Amber(mif_180, minimisation_protocol, exe = '/home/finlayclark/software/amber20/bin/sander')"
   ]
  },
  {
   "cell_type": "code",
   "execution_count": 52,
   "id": "5c1d4c85",
   "metadata": {},
   "outputs": [
    {
     "data": {
      "text/plain": [
       "BioSimSpace.Process.Amber(<BioSimSpace.System: nMolecules=1>, BioSimSpace.Protocol.Minimisation(steps=1000), exe='/home/finlayclark/software/amber20/bin/sander', name='amber', work_dir='/tmp/tmp_6b6ir5i', seed=None)"
      ]
     },
     "execution_count": 52,
     "metadata": {},
     "output_type": "execute_result"
    }
   ],
   "source": [
    "minimisation_process.start()"
   ]
  },
  {
   "cell_type": "code",
   "execution_count": 56,
   "id": "faa03e87",
   "metadata": {},
   "outputs": [
    {
     "data": {
      "text/plain": [
       "[40.5170 kcal/mol,\n",
       " 13.4520 kcal/mol,\n",
       " 12.7520 kcal/mol,\n",
       " 12.2390 kcal/mol,\n",
       " 12.0730 kcal/mol]"
      ]
     },
     "execution_count": 56,
     "metadata": {},
     "output_type": "execute_result"
    }
   ],
   "source": [
    "minimisation_process.getTotalEnergy(time_series=True)"
   ]
  },
  {
   "cell_type": "code",
   "execution_count": 57,
   "id": "7f3b3b5f",
   "metadata": {},
   "outputs": [],
   "source": [
    "mif_180_minimised_sander = minimisation_process.getSystem()"
   ]
  },
  {
   "cell_type": "code",
   "execution_count": 17,
   "id": "c59fe691",
   "metadata": {},
   "outputs": [],
   "source": [
    "minimisation_process.getTotalEnergy(time_series=True)"
   ]
  },
  {
   "cell_type": "code",
   "execution_count": 58,
   "id": "839ab2e4",
   "metadata": {},
   "outputs": [
    {
     "data": {
      "application/vnd.jupyter.widget-view+json": {
       "model_id": "e6f460ee31b043ba828e0c80d97b3bbb",
       "version_major": 2,
       "version_minor": 0
      },
      "text/plain": [
       "NGLWidget(gui_style='ngl')"
      ]
     },
     "metadata": {},
     "output_type": "display_data"
    }
   ],
   "source": [
    "view = BSS.Notebook.View(mif_180_minimised_sander)\n",
    "view.system()"
   ]
  },
  {
   "cell_type": "markdown",
   "id": "4b893f7c",
   "metadata": {},
   "source": [
    "## Run Several Times to See if Works"
   ]
  },
  {
   "cell_type": "code",
   "execution_count": 66,
   "id": "e7ab1e8d",
   "metadata": {},
   "outputs": [
    {
     "ename": "OSError",
     "evalue": "[Errno 24] inotify instance limit reached",
     "output_type": "error",
     "traceback": [
      "\u001b[0;31m---------------------------------------------------------------------------\u001b[0m",
      "\u001b[0;31mOSError\u001b[0m                                   Traceback (most recent call last)",
      "\u001b[0;32m/tmp/ipykernel_139831/2126211580.py\u001b[0m in \u001b[0;36m<module>\u001b[0;34m\u001b[0m\n\u001b[1;32m      2\u001b[0m \u001b[0;32mfor\u001b[0m \u001b[0mi\u001b[0m \u001b[0;32min\u001b[0m \u001b[0mrange\u001b[0m\u001b[0;34m(\u001b[0m\u001b[0;36m100\u001b[0m\u001b[0;34m)\u001b[0m\u001b[0;34m:\u001b[0m\u001b[0;34m\u001b[0m\u001b[0;34m\u001b[0m\u001b[0m\n\u001b[1;32m      3\u001b[0m     \u001b[0mminimisation_process\u001b[0m \u001b[0;34m=\u001b[0m \u001b[0mBSS\u001b[0m\u001b[0;34m.\u001b[0m\u001b[0mProcess\u001b[0m\u001b[0;34m.\u001b[0m\u001b[0mAmber\u001b[0m\u001b[0;34m(\u001b[0m\u001b[0mmif_180\u001b[0m\u001b[0;34m,\u001b[0m \u001b[0mminimisation_protocol\u001b[0m\u001b[0;34m,\u001b[0m \u001b[0mexe\u001b[0m \u001b[0;34m=\u001b[0m \u001b[0;34m'/home/finlayclark/software/amber20/bin/pmemd'\u001b[0m\u001b[0;34m)\u001b[0m\u001b[0;34m\u001b[0m\u001b[0;34m\u001b[0m\u001b[0m\n\u001b[0;32m----> 4\u001b[0;31m     \u001b[0mminimisation_process\u001b[0m\u001b[0;34m.\u001b[0m\u001b[0mstart\u001b[0m\u001b[0;34m(\u001b[0m\u001b[0;34m)\u001b[0m\u001b[0;34m\u001b[0m\u001b[0;34m\u001b[0m\u001b[0m\n\u001b[0m\u001b[1;32m      5\u001b[0m     \u001b[0mis_error\u001b[0m \u001b[0;34m=\u001b[0m \u001b[0mminimisation_process\u001b[0m\u001b[0;34m.\u001b[0m\u001b[0misError\u001b[0m\u001b[0;34m(\u001b[0m\u001b[0;34m)\u001b[0m\u001b[0;34m\u001b[0m\u001b[0;34m\u001b[0m\u001b[0m\n\u001b[1;32m      6\u001b[0m     \u001b[0merr_list\u001b[0m\u001b[0;34m.\u001b[0m\u001b[0mappend\u001b[0m\u001b[0;34m(\u001b[0m\u001b[0mis_error\u001b[0m\u001b[0;34m)\u001b[0m\u001b[0;34m\u001b[0m\u001b[0;34m\u001b[0m\u001b[0m\n",
      "\u001b[0;32m~/anaconda3/envs/biosimspace-dev/lib/python3.7/site-packages/BioSimSpace/Process/_amber.py\u001b[0m in \u001b[0;36mstart\u001b[0;34m(self)\u001b[0m\n\u001b[1;32m    761\u001b[0m         \u001b[0;31m# Watch the energy info file for changes.\u001b[0m\u001b[0;34m\u001b[0m\u001b[0;34m\u001b[0m\u001b[0;34m\u001b[0m\u001b[0m\n\u001b[1;32m    762\u001b[0m         \u001b[0mself\u001b[0m\u001b[0;34m.\u001b[0m\u001b[0m_watcher\u001b[0m \u001b[0;34m=\u001b[0m \u001b[0m_Watcher\u001b[0m\u001b[0;34m(\u001b[0m\u001b[0mself\u001b[0m\u001b[0;34m)\u001b[0m\u001b[0;34m\u001b[0m\u001b[0;34m\u001b[0m\u001b[0m\n\u001b[0;32m--> 763\u001b[0;31m         \u001b[0mself\u001b[0m\u001b[0;34m.\u001b[0m\u001b[0m_watcher\u001b[0m\u001b[0;34m.\u001b[0m\u001b[0mstart\u001b[0m\u001b[0;34m(\u001b[0m\u001b[0;34m)\u001b[0m\u001b[0;34m\u001b[0m\u001b[0;34m\u001b[0m\u001b[0m\n\u001b[0m\u001b[1;32m    764\u001b[0m \u001b[0;34m\u001b[0m\u001b[0m\n\u001b[1;32m    765\u001b[0m         \u001b[0;32mreturn\u001b[0m \u001b[0mself\u001b[0m\u001b[0;34m\u001b[0m\u001b[0;34m\u001b[0m\u001b[0m\n",
      "\u001b[0;32m~/anaconda3/envs/biosimspace-dev/lib/python3.7/site-packages/BioSimSpace/Process/_amber.py\u001b[0m in \u001b[0;36mstart\u001b[0;34m(self)\u001b[0m\n\u001b[1;32m     81\u001b[0m         \u001b[0mself\u001b[0m\u001b[0;34m.\u001b[0m\u001b[0m_observer\u001b[0m\u001b[0;34m.\u001b[0m\u001b[0mschedule\u001b[0m\u001b[0;34m(\u001b[0m\u001b[0mevent_handler\u001b[0m\u001b[0;34m,\u001b[0m \u001b[0mself\u001b[0m\u001b[0;34m.\u001b[0m\u001b[0m_process\u001b[0m\u001b[0;34m.\u001b[0m\u001b[0m_work_dir\u001b[0m\u001b[0;34m)\u001b[0m\u001b[0;34m\u001b[0m\u001b[0;34m\u001b[0m\u001b[0m\n\u001b[1;32m     82\u001b[0m         \u001b[0mself\u001b[0m\u001b[0;34m.\u001b[0m\u001b[0m_observer\u001b[0m\u001b[0;34m.\u001b[0m\u001b[0mdaemon\u001b[0m \u001b[0;34m=\u001b[0m \u001b[0;32mTrue\u001b[0m\u001b[0;34m\u001b[0m\u001b[0;34m\u001b[0m\u001b[0m\n\u001b[0;32m---> 83\u001b[0;31m         \u001b[0mself\u001b[0m\u001b[0;34m.\u001b[0m\u001b[0m_observer\u001b[0m\u001b[0;34m.\u001b[0m\u001b[0mstart\u001b[0m\u001b[0;34m(\u001b[0m\u001b[0;34m)\u001b[0m\u001b[0;34m\u001b[0m\u001b[0;34m\u001b[0m\u001b[0m\n\u001b[0m\u001b[1;32m     84\u001b[0m \u001b[0;34m\u001b[0m\u001b[0m\n\u001b[1;32m     85\u001b[0m \u001b[0;32mclass\u001b[0m \u001b[0m_Handler\u001b[0m\u001b[0;34m(\u001b[0m\u001b[0m_PatternMatchingEventHandler\u001b[0m\u001b[0;34m)\u001b[0m\u001b[0;34m:\u001b[0m\u001b[0;34m\u001b[0m\u001b[0;34m\u001b[0m\u001b[0m\n",
      "\u001b[0;32m~/anaconda3/envs/biosimspace-dev/lib/python3.7/site-packages/watchdog/observers/api.py\u001b[0m in \u001b[0;36mstart\u001b[0;34m(self)\u001b[0m\n\u001b[1;32m    254\u001b[0m         \u001b[0;32mfor\u001b[0m \u001b[0memitter\u001b[0m \u001b[0;32min\u001b[0m \u001b[0mself\u001b[0m\u001b[0;34m.\u001b[0m\u001b[0m_emitters\u001b[0m\u001b[0;34m.\u001b[0m\u001b[0mcopy\u001b[0m\u001b[0;34m(\u001b[0m\u001b[0;34m)\u001b[0m\u001b[0;34m:\u001b[0m\u001b[0;34m\u001b[0m\u001b[0;34m\u001b[0m\u001b[0m\n\u001b[1;32m    255\u001b[0m             \u001b[0;32mtry\u001b[0m\u001b[0;34m:\u001b[0m\u001b[0;34m\u001b[0m\u001b[0;34m\u001b[0m\u001b[0m\n\u001b[0;32m--> 256\u001b[0;31m                 \u001b[0memitter\u001b[0m\u001b[0;34m.\u001b[0m\u001b[0mstart\u001b[0m\u001b[0;34m(\u001b[0m\u001b[0;34m)\u001b[0m\u001b[0;34m\u001b[0m\u001b[0;34m\u001b[0m\u001b[0m\n\u001b[0m\u001b[1;32m    257\u001b[0m             \u001b[0;32mexcept\u001b[0m \u001b[0mException\u001b[0m\u001b[0;34m:\u001b[0m\u001b[0;34m\u001b[0m\u001b[0;34m\u001b[0m\u001b[0m\n\u001b[1;32m    258\u001b[0m                 \u001b[0mself\u001b[0m\u001b[0;34m.\u001b[0m\u001b[0m_remove_emitter\u001b[0m\u001b[0;34m(\u001b[0m\u001b[0memitter\u001b[0m\u001b[0;34m)\u001b[0m\u001b[0;34m\u001b[0m\u001b[0;34m\u001b[0m\u001b[0m\n",
      "\u001b[0;32m~/anaconda3/envs/biosimspace-dev/lib/python3.7/site-packages/watchdog/utils/__init__.py\u001b[0m in \u001b[0;36mstart\u001b[0;34m(self)\u001b[0m\n\u001b[1;32m     91\u001b[0m \u001b[0;34m\u001b[0m\u001b[0m\n\u001b[1;32m     92\u001b[0m     \u001b[0;32mdef\u001b[0m \u001b[0mstart\u001b[0m\u001b[0;34m(\u001b[0m\u001b[0mself\u001b[0m\u001b[0;34m)\u001b[0m\u001b[0;34m:\u001b[0m\u001b[0;34m\u001b[0m\u001b[0;34m\u001b[0m\u001b[0m\n\u001b[0;32m---> 93\u001b[0;31m         \u001b[0mself\u001b[0m\u001b[0;34m.\u001b[0m\u001b[0mon_thread_start\u001b[0m\u001b[0;34m(\u001b[0m\u001b[0;34m)\u001b[0m\u001b[0;34m\u001b[0m\u001b[0;34m\u001b[0m\u001b[0m\n\u001b[0m\u001b[1;32m     94\u001b[0m         \u001b[0mthreading\u001b[0m\u001b[0;34m.\u001b[0m\u001b[0mThread\u001b[0m\u001b[0;34m.\u001b[0m\u001b[0mstart\u001b[0m\u001b[0;34m(\u001b[0m\u001b[0mself\u001b[0m\u001b[0;34m)\u001b[0m\u001b[0;34m\u001b[0m\u001b[0;34m\u001b[0m\u001b[0m\n\u001b[1;32m     95\u001b[0m \u001b[0;34m\u001b[0m\u001b[0m\n",
      "\u001b[0;32m~/anaconda3/envs/biosimspace-dev/lib/python3.7/site-packages/watchdog/observers/inotify.py\u001b[0m in \u001b[0;36mon_thread_start\u001b[0;34m(self)\u001b[0m\n\u001b[1;32m    116\u001b[0m     \u001b[0;32mdef\u001b[0m \u001b[0mon_thread_start\u001b[0m\u001b[0;34m(\u001b[0m\u001b[0mself\u001b[0m\u001b[0;34m)\u001b[0m\u001b[0;34m:\u001b[0m\u001b[0;34m\u001b[0m\u001b[0;34m\u001b[0m\u001b[0m\n\u001b[1;32m    117\u001b[0m         \u001b[0mpath\u001b[0m \u001b[0;34m=\u001b[0m \u001b[0mos\u001b[0m\u001b[0;34m.\u001b[0m\u001b[0mfsencode\u001b[0m\u001b[0;34m(\u001b[0m\u001b[0mself\u001b[0m\u001b[0;34m.\u001b[0m\u001b[0mwatch\u001b[0m\u001b[0;34m.\u001b[0m\u001b[0mpath\u001b[0m\u001b[0;34m)\u001b[0m\u001b[0;34m\u001b[0m\u001b[0;34m\u001b[0m\u001b[0m\n\u001b[0;32m--> 118\u001b[0;31m         \u001b[0mself\u001b[0m\u001b[0;34m.\u001b[0m\u001b[0m_inotify\u001b[0m \u001b[0;34m=\u001b[0m \u001b[0mInotifyBuffer\u001b[0m\u001b[0;34m(\u001b[0m\u001b[0mpath\u001b[0m\u001b[0;34m,\u001b[0m \u001b[0mself\u001b[0m\u001b[0;34m.\u001b[0m\u001b[0mwatch\u001b[0m\u001b[0;34m.\u001b[0m\u001b[0mis_recursive\u001b[0m\u001b[0;34m)\u001b[0m\u001b[0;34m\u001b[0m\u001b[0;34m\u001b[0m\u001b[0m\n\u001b[0m\u001b[1;32m    119\u001b[0m \u001b[0;34m\u001b[0m\u001b[0m\n\u001b[1;32m    120\u001b[0m     \u001b[0;32mdef\u001b[0m \u001b[0mon_thread_stop\u001b[0m\u001b[0;34m(\u001b[0m\u001b[0mself\u001b[0m\u001b[0;34m)\u001b[0m\u001b[0;34m:\u001b[0m\u001b[0;34m\u001b[0m\u001b[0;34m\u001b[0m\u001b[0m\n",
      "\u001b[0;32m~/anaconda3/envs/biosimspace-dev/lib/python3.7/site-packages/watchdog/observers/inotify_buffer.py\u001b[0m in \u001b[0;36m__init__\u001b[0;34m(self, path, recursive)\u001b[0m\n\u001b[1;32m     33\u001b[0m         \u001b[0mBaseThread\u001b[0m\u001b[0;34m.\u001b[0m\u001b[0m__init__\u001b[0m\u001b[0;34m(\u001b[0m\u001b[0mself\u001b[0m\u001b[0;34m)\u001b[0m\u001b[0;34m\u001b[0m\u001b[0;34m\u001b[0m\u001b[0m\n\u001b[1;32m     34\u001b[0m         \u001b[0mself\u001b[0m\u001b[0;34m.\u001b[0m\u001b[0m_queue\u001b[0m \u001b[0;34m=\u001b[0m \u001b[0mDelayedQueue\u001b[0m\u001b[0;34m(\u001b[0m\u001b[0mself\u001b[0m\u001b[0;34m.\u001b[0m\u001b[0mdelay\u001b[0m\u001b[0;34m)\u001b[0m\u001b[0;34m\u001b[0m\u001b[0;34m\u001b[0m\u001b[0m\n\u001b[0;32m---> 35\u001b[0;31m         \u001b[0mself\u001b[0m\u001b[0;34m.\u001b[0m\u001b[0m_inotify\u001b[0m \u001b[0;34m=\u001b[0m \u001b[0mInotify\u001b[0m\u001b[0;34m(\u001b[0m\u001b[0mpath\u001b[0m\u001b[0;34m,\u001b[0m \u001b[0mrecursive\u001b[0m\u001b[0;34m)\u001b[0m\u001b[0;34m\u001b[0m\u001b[0;34m\u001b[0m\u001b[0m\n\u001b[0m\u001b[1;32m     36\u001b[0m         \u001b[0mself\u001b[0m\u001b[0;34m.\u001b[0m\u001b[0mstart\u001b[0m\u001b[0;34m(\u001b[0m\u001b[0;34m)\u001b[0m\u001b[0;34m\u001b[0m\u001b[0;34m\u001b[0m\u001b[0m\n\u001b[1;32m     37\u001b[0m \u001b[0;34m\u001b[0m\u001b[0m\n",
      "\u001b[0;32m~/anaconda3/envs/biosimspace-dev/lib/python3.7/site-packages/watchdog/observers/inotify_c.py\u001b[0m in \u001b[0;36m__init__\u001b[0;34m(self, path, recursive, event_mask)\u001b[0m\n\u001b[1;32m    153\u001b[0m         \u001b[0minotify_fd\u001b[0m \u001b[0;34m=\u001b[0m \u001b[0minotify_init\u001b[0m\u001b[0;34m(\u001b[0m\u001b[0;34m)\u001b[0m\u001b[0;34m\u001b[0m\u001b[0;34m\u001b[0m\u001b[0m\n\u001b[1;32m    154\u001b[0m         \u001b[0;32mif\u001b[0m \u001b[0minotify_fd\u001b[0m \u001b[0;34m==\u001b[0m \u001b[0;34m-\u001b[0m\u001b[0;36m1\u001b[0m\u001b[0;34m:\u001b[0m\u001b[0;34m\u001b[0m\u001b[0;34m\u001b[0m\u001b[0m\n\u001b[0;32m--> 155\u001b[0;31m             \u001b[0mInotify\u001b[0m\u001b[0;34m.\u001b[0m\u001b[0m_raise_error\u001b[0m\u001b[0;34m(\u001b[0m\u001b[0;34m)\u001b[0m\u001b[0;34m\u001b[0m\u001b[0;34m\u001b[0m\u001b[0m\n\u001b[0m\u001b[1;32m    156\u001b[0m         \u001b[0mself\u001b[0m\u001b[0;34m.\u001b[0m\u001b[0m_inotify_fd\u001b[0m \u001b[0;34m=\u001b[0m \u001b[0minotify_fd\u001b[0m\u001b[0;34m\u001b[0m\u001b[0;34m\u001b[0m\u001b[0m\n\u001b[1;32m    157\u001b[0m         \u001b[0mself\u001b[0m\u001b[0;34m.\u001b[0m\u001b[0m_lock\u001b[0m \u001b[0;34m=\u001b[0m \u001b[0mthreading\u001b[0m\u001b[0;34m.\u001b[0m\u001b[0mLock\u001b[0m\u001b[0;34m(\u001b[0m\u001b[0;34m)\u001b[0m\u001b[0;34m\u001b[0m\u001b[0;34m\u001b[0m\u001b[0m\n",
      "\u001b[0;32m~/anaconda3/envs/biosimspace-dev/lib/python3.7/site-packages/watchdog/observers/inotify_c.py\u001b[0m in \u001b[0;36m_raise_error\u001b[0;34m()\u001b[0m\n\u001b[1;32m    397\u001b[0m             \u001b[0;32mraise\u001b[0m \u001b[0mOSError\u001b[0m\u001b[0;34m(\u001b[0m\u001b[0merrno\u001b[0m\u001b[0;34m.\u001b[0m\u001b[0mENOSPC\u001b[0m\u001b[0;34m,\u001b[0m \u001b[0;34m\"inotify watch limit reached\"\u001b[0m\u001b[0;34m)\u001b[0m\u001b[0;34m\u001b[0m\u001b[0;34m\u001b[0m\u001b[0m\n\u001b[1;32m    398\u001b[0m         \u001b[0;32melif\u001b[0m \u001b[0merr\u001b[0m \u001b[0;34m==\u001b[0m \u001b[0merrno\u001b[0m\u001b[0;34m.\u001b[0m\u001b[0mEMFILE\u001b[0m\u001b[0;34m:\u001b[0m\u001b[0;34m\u001b[0m\u001b[0;34m\u001b[0m\u001b[0m\n\u001b[0;32m--> 399\u001b[0;31m             \u001b[0;32mraise\u001b[0m \u001b[0mOSError\u001b[0m\u001b[0;34m(\u001b[0m\u001b[0merrno\u001b[0m\u001b[0;34m.\u001b[0m\u001b[0mEMFILE\u001b[0m\u001b[0;34m,\u001b[0m \u001b[0;34m\"inotify instance limit reached\"\u001b[0m\u001b[0;34m)\u001b[0m\u001b[0;34m\u001b[0m\u001b[0;34m\u001b[0m\u001b[0m\n\u001b[0m\u001b[1;32m    400\u001b[0m         \u001b[0;32melif\u001b[0m \u001b[0merr\u001b[0m \u001b[0;34m==\u001b[0m \u001b[0merrno\u001b[0m\u001b[0;34m.\u001b[0m\u001b[0mEACCES\u001b[0m\u001b[0;34m:\u001b[0m\u001b[0;34m\u001b[0m\u001b[0;34m\u001b[0m\u001b[0m\n\u001b[1;32m    401\u001b[0m             \u001b[0;31m# Prevent raising an exception when a file with no permissions\u001b[0m\u001b[0;34m\u001b[0m\u001b[0;34m\u001b[0m\u001b[0;34m\u001b[0m\u001b[0m\n",
      "\u001b[0;31mOSError\u001b[0m: [Errno 24] inotify instance limit reached"
     ]
    }
   ],
   "source": [
    "err_list = []\n",
    "for i in range(100):\n",
    "    minimisation_process = BSS.Process.Amber(mif_180, minimisation_protocol, exe = '/home/finlayclark/software/amber20/bin/pmemd')\n",
    "    minimisation_process.start()\n",
    "    is_error = minimisation_process.isError()\n",
    "    err_list.append(is_error)"
   ]
  },
  {
   "cell_type": "code",
   "execution_count": 64,
   "id": "242b9eb0",
   "metadata": {},
   "outputs": [],
   "source": [
    "minimisation_process = BSS.Process.Amber(mif_180, minimisation_protocol, exe = '/home/finlayclark/software/amber20/bin/pmemd')"
   ]
  },
  {
   "cell_type": "code",
   "execution_count": 65,
   "id": "b88e384a",
   "metadata": {},
   "outputs": [
    {
     "ename": "OSError",
     "evalue": "[Errno 24] inotify instance limit reached",
     "output_type": "error",
     "traceback": [
      "\u001b[0;31m---------------------------------------------------------------------------\u001b[0m",
      "\u001b[0;31mOSError\u001b[0m                                   Traceback (most recent call last)",
      "\u001b[0;32m/tmp/ipykernel_139831/1609334382.py\u001b[0m in \u001b[0;36m<module>\u001b[0;34m\u001b[0m\n\u001b[0;32m----> 1\u001b[0;31m \u001b[0mminimisation_process\u001b[0m\u001b[0;34m.\u001b[0m\u001b[0mstart\u001b[0m\u001b[0;34m(\u001b[0m\u001b[0;34m)\u001b[0m\u001b[0;34m\u001b[0m\u001b[0;34m\u001b[0m\u001b[0m\n\u001b[0m",
      "\u001b[0;32m~/anaconda3/envs/biosimspace-dev/lib/python3.7/site-packages/BioSimSpace/Process/_amber.py\u001b[0m in \u001b[0;36mstart\u001b[0;34m(self)\u001b[0m\n\u001b[1;32m    761\u001b[0m         \u001b[0;31m# Watch the energy info file for changes.\u001b[0m\u001b[0;34m\u001b[0m\u001b[0;34m\u001b[0m\u001b[0;34m\u001b[0m\u001b[0m\n\u001b[1;32m    762\u001b[0m         \u001b[0mself\u001b[0m\u001b[0;34m.\u001b[0m\u001b[0m_watcher\u001b[0m \u001b[0;34m=\u001b[0m \u001b[0m_Watcher\u001b[0m\u001b[0;34m(\u001b[0m\u001b[0mself\u001b[0m\u001b[0;34m)\u001b[0m\u001b[0;34m\u001b[0m\u001b[0;34m\u001b[0m\u001b[0m\n\u001b[0;32m--> 763\u001b[0;31m         \u001b[0mself\u001b[0m\u001b[0;34m.\u001b[0m\u001b[0m_watcher\u001b[0m\u001b[0;34m.\u001b[0m\u001b[0mstart\u001b[0m\u001b[0;34m(\u001b[0m\u001b[0;34m)\u001b[0m\u001b[0;34m\u001b[0m\u001b[0;34m\u001b[0m\u001b[0m\n\u001b[0m\u001b[1;32m    764\u001b[0m \u001b[0;34m\u001b[0m\u001b[0m\n\u001b[1;32m    765\u001b[0m         \u001b[0;32mreturn\u001b[0m \u001b[0mself\u001b[0m\u001b[0;34m\u001b[0m\u001b[0;34m\u001b[0m\u001b[0m\n",
      "\u001b[0;32m~/anaconda3/envs/biosimspace-dev/lib/python3.7/site-packages/BioSimSpace/Process/_amber.py\u001b[0m in \u001b[0;36mstart\u001b[0;34m(self)\u001b[0m\n\u001b[1;32m     81\u001b[0m         \u001b[0mself\u001b[0m\u001b[0;34m.\u001b[0m\u001b[0m_observer\u001b[0m\u001b[0;34m.\u001b[0m\u001b[0mschedule\u001b[0m\u001b[0;34m(\u001b[0m\u001b[0mevent_handler\u001b[0m\u001b[0;34m,\u001b[0m \u001b[0mself\u001b[0m\u001b[0;34m.\u001b[0m\u001b[0m_process\u001b[0m\u001b[0;34m.\u001b[0m\u001b[0m_work_dir\u001b[0m\u001b[0;34m)\u001b[0m\u001b[0;34m\u001b[0m\u001b[0;34m\u001b[0m\u001b[0m\n\u001b[1;32m     82\u001b[0m         \u001b[0mself\u001b[0m\u001b[0;34m.\u001b[0m\u001b[0m_observer\u001b[0m\u001b[0;34m.\u001b[0m\u001b[0mdaemon\u001b[0m \u001b[0;34m=\u001b[0m \u001b[0;32mTrue\u001b[0m\u001b[0;34m\u001b[0m\u001b[0;34m\u001b[0m\u001b[0m\n\u001b[0;32m---> 83\u001b[0;31m         \u001b[0mself\u001b[0m\u001b[0;34m.\u001b[0m\u001b[0m_observer\u001b[0m\u001b[0;34m.\u001b[0m\u001b[0mstart\u001b[0m\u001b[0;34m(\u001b[0m\u001b[0;34m)\u001b[0m\u001b[0;34m\u001b[0m\u001b[0;34m\u001b[0m\u001b[0m\n\u001b[0m\u001b[1;32m     84\u001b[0m \u001b[0;34m\u001b[0m\u001b[0m\n\u001b[1;32m     85\u001b[0m \u001b[0;32mclass\u001b[0m \u001b[0m_Handler\u001b[0m\u001b[0;34m(\u001b[0m\u001b[0m_PatternMatchingEventHandler\u001b[0m\u001b[0;34m)\u001b[0m\u001b[0;34m:\u001b[0m\u001b[0;34m\u001b[0m\u001b[0;34m\u001b[0m\u001b[0m\n",
      "\u001b[0;32m~/anaconda3/envs/biosimspace-dev/lib/python3.7/site-packages/watchdog/observers/api.py\u001b[0m in \u001b[0;36mstart\u001b[0;34m(self)\u001b[0m\n\u001b[1;32m    254\u001b[0m         \u001b[0;32mfor\u001b[0m \u001b[0memitter\u001b[0m \u001b[0;32min\u001b[0m \u001b[0mself\u001b[0m\u001b[0;34m.\u001b[0m\u001b[0m_emitters\u001b[0m\u001b[0;34m.\u001b[0m\u001b[0mcopy\u001b[0m\u001b[0;34m(\u001b[0m\u001b[0;34m)\u001b[0m\u001b[0;34m:\u001b[0m\u001b[0;34m\u001b[0m\u001b[0;34m\u001b[0m\u001b[0m\n\u001b[1;32m    255\u001b[0m             \u001b[0;32mtry\u001b[0m\u001b[0;34m:\u001b[0m\u001b[0;34m\u001b[0m\u001b[0;34m\u001b[0m\u001b[0m\n\u001b[0;32m--> 256\u001b[0;31m                 \u001b[0memitter\u001b[0m\u001b[0;34m.\u001b[0m\u001b[0mstart\u001b[0m\u001b[0;34m(\u001b[0m\u001b[0;34m)\u001b[0m\u001b[0;34m\u001b[0m\u001b[0;34m\u001b[0m\u001b[0m\n\u001b[0m\u001b[1;32m    257\u001b[0m             \u001b[0;32mexcept\u001b[0m \u001b[0mException\u001b[0m\u001b[0;34m:\u001b[0m\u001b[0;34m\u001b[0m\u001b[0;34m\u001b[0m\u001b[0m\n\u001b[1;32m    258\u001b[0m                 \u001b[0mself\u001b[0m\u001b[0;34m.\u001b[0m\u001b[0m_remove_emitter\u001b[0m\u001b[0;34m(\u001b[0m\u001b[0memitter\u001b[0m\u001b[0;34m)\u001b[0m\u001b[0;34m\u001b[0m\u001b[0;34m\u001b[0m\u001b[0m\n",
      "\u001b[0;32m~/anaconda3/envs/biosimspace-dev/lib/python3.7/site-packages/watchdog/utils/__init__.py\u001b[0m in \u001b[0;36mstart\u001b[0;34m(self)\u001b[0m\n\u001b[1;32m     91\u001b[0m \u001b[0;34m\u001b[0m\u001b[0m\n\u001b[1;32m     92\u001b[0m     \u001b[0;32mdef\u001b[0m \u001b[0mstart\u001b[0m\u001b[0;34m(\u001b[0m\u001b[0mself\u001b[0m\u001b[0;34m)\u001b[0m\u001b[0;34m:\u001b[0m\u001b[0;34m\u001b[0m\u001b[0;34m\u001b[0m\u001b[0m\n\u001b[0;32m---> 93\u001b[0;31m         \u001b[0mself\u001b[0m\u001b[0;34m.\u001b[0m\u001b[0mon_thread_start\u001b[0m\u001b[0;34m(\u001b[0m\u001b[0;34m)\u001b[0m\u001b[0;34m\u001b[0m\u001b[0;34m\u001b[0m\u001b[0m\n\u001b[0m\u001b[1;32m     94\u001b[0m         \u001b[0mthreading\u001b[0m\u001b[0;34m.\u001b[0m\u001b[0mThread\u001b[0m\u001b[0;34m.\u001b[0m\u001b[0mstart\u001b[0m\u001b[0;34m(\u001b[0m\u001b[0mself\u001b[0m\u001b[0;34m)\u001b[0m\u001b[0;34m\u001b[0m\u001b[0;34m\u001b[0m\u001b[0m\n\u001b[1;32m     95\u001b[0m \u001b[0;34m\u001b[0m\u001b[0m\n",
      "\u001b[0;32m~/anaconda3/envs/biosimspace-dev/lib/python3.7/site-packages/watchdog/observers/inotify.py\u001b[0m in \u001b[0;36mon_thread_start\u001b[0;34m(self)\u001b[0m\n\u001b[1;32m    116\u001b[0m     \u001b[0;32mdef\u001b[0m \u001b[0mon_thread_start\u001b[0m\u001b[0;34m(\u001b[0m\u001b[0mself\u001b[0m\u001b[0;34m)\u001b[0m\u001b[0;34m:\u001b[0m\u001b[0;34m\u001b[0m\u001b[0;34m\u001b[0m\u001b[0m\n\u001b[1;32m    117\u001b[0m         \u001b[0mpath\u001b[0m \u001b[0;34m=\u001b[0m \u001b[0mos\u001b[0m\u001b[0;34m.\u001b[0m\u001b[0mfsencode\u001b[0m\u001b[0;34m(\u001b[0m\u001b[0mself\u001b[0m\u001b[0;34m.\u001b[0m\u001b[0mwatch\u001b[0m\u001b[0;34m.\u001b[0m\u001b[0mpath\u001b[0m\u001b[0;34m)\u001b[0m\u001b[0;34m\u001b[0m\u001b[0;34m\u001b[0m\u001b[0m\n\u001b[0;32m--> 118\u001b[0;31m         \u001b[0mself\u001b[0m\u001b[0;34m.\u001b[0m\u001b[0m_inotify\u001b[0m \u001b[0;34m=\u001b[0m \u001b[0mInotifyBuffer\u001b[0m\u001b[0;34m(\u001b[0m\u001b[0mpath\u001b[0m\u001b[0;34m,\u001b[0m \u001b[0mself\u001b[0m\u001b[0;34m.\u001b[0m\u001b[0mwatch\u001b[0m\u001b[0;34m.\u001b[0m\u001b[0mis_recursive\u001b[0m\u001b[0;34m)\u001b[0m\u001b[0;34m\u001b[0m\u001b[0;34m\u001b[0m\u001b[0m\n\u001b[0m\u001b[1;32m    119\u001b[0m \u001b[0;34m\u001b[0m\u001b[0m\n\u001b[1;32m    120\u001b[0m     \u001b[0;32mdef\u001b[0m \u001b[0mon_thread_stop\u001b[0m\u001b[0;34m(\u001b[0m\u001b[0mself\u001b[0m\u001b[0;34m)\u001b[0m\u001b[0;34m:\u001b[0m\u001b[0;34m\u001b[0m\u001b[0;34m\u001b[0m\u001b[0m\n",
      "\u001b[0;32m~/anaconda3/envs/biosimspace-dev/lib/python3.7/site-packages/watchdog/observers/inotify_buffer.py\u001b[0m in \u001b[0;36m__init__\u001b[0;34m(self, path, recursive)\u001b[0m\n\u001b[1;32m     33\u001b[0m         \u001b[0mBaseThread\u001b[0m\u001b[0;34m.\u001b[0m\u001b[0m__init__\u001b[0m\u001b[0;34m(\u001b[0m\u001b[0mself\u001b[0m\u001b[0;34m)\u001b[0m\u001b[0;34m\u001b[0m\u001b[0;34m\u001b[0m\u001b[0m\n\u001b[1;32m     34\u001b[0m         \u001b[0mself\u001b[0m\u001b[0;34m.\u001b[0m\u001b[0m_queue\u001b[0m \u001b[0;34m=\u001b[0m \u001b[0mDelayedQueue\u001b[0m\u001b[0;34m(\u001b[0m\u001b[0mself\u001b[0m\u001b[0;34m.\u001b[0m\u001b[0mdelay\u001b[0m\u001b[0;34m)\u001b[0m\u001b[0;34m\u001b[0m\u001b[0;34m\u001b[0m\u001b[0m\n\u001b[0;32m---> 35\u001b[0;31m         \u001b[0mself\u001b[0m\u001b[0;34m.\u001b[0m\u001b[0m_inotify\u001b[0m \u001b[0;34m=\u001b[0m \u001b[0mInotify\u001b[0m\u001b[0;34m(\u001b[0m\u001b[0mpath\u001b[0m\u001b[0;34m,\u001b[0m \u001b[0mrecursive\u001b[0m\u001b[0;34m)\u001b[0m\u001b[0;34m\u001b[0m\u001b[0;34m\u001b[0m\u001b[0m\n\u001b[0m\u001b[1;32m     36\u001b[0m         \u001b[0mself\u001b[0m\u001b[0;34m.\u001b[0m\u001b[0mstart\u001b[0m\u001b[0;34m(\u001b[0m\u001b[0;34m)\u001b[0m\u001b[0;34m\u001b[0m\u001b[0;34m\u001b[0m\u001b[0m\n\u001b[1;32m     37\u001b[0m \u001b[0;34m\u001b[0m\u001b[0m\n",
      "\u001b[0;32m~/anaconda3/envs/biosimspace-dev/lib/python3.7/site-packages/watchdog/observers/inotify_c.py\u001b[0m in \u001b[0;36m__init__\u001b[0;34m(self, path, recursive, event_mask)\u001b[0m\n\u001b[1;32m    153\u001b[0m         \u001b[0minotify_fd\u001b[0m \u001b[0;34m=\u001b[0m \u001b[0minotify_init\u001b[0m\u001b[0;34m(\u001b[0m\u001b[0;34m)\u001b[0m\u001b[0;34m\u001b[0m\u001b[0;34m\u001b[0m\u001b[0m\n\u001b[1;32m    154\u001b[0m         \u001b[0;32mif\u001b[0m \u001b[0minotify_fd\u001b[0m \u001b[0;34m==\u001b[0m \u001b[0;34m-\u001b[0m\u001b[0;36m1\u001b[0m\u001b[0;34m:\u001b[0m\u001b[0;34m\u001b[0m\u001b[0;34m\u001b[0m\u001b[0m\n\u001b[0;32m--> 155\u001b[0;31m             \u001b[0mInotify\u001b[0m\u001b[0;34m.\u001b[0m\u001b[0m_raise_error\u001b[0m\u001b[0;34m(\u001b[0m\u001b[0;34m)\u001b[0m\u001b[0;34m\u001b[0m\u001b[0;34m\u001b[0m\u001b[0m\n\u001b[0m\u001b[1;32m    156\u001b[0m         \u001b[0mself\u001b[0m\u001b[0;34m.\u001b[0m\u001b[0m_inotify_fd\u001b[0m \u001b[0;34m=\u001b[0m \u001b[0minotify_fd\u001b[0m\u001b[0;34m\u001b[0m\u001b[0;34m\u001b[0m\u001b[0m\n\u001b[1;32m    157\u001b[0m         \u001b[0mself\u001b[0m\u001b[0;34m.\u001b[0m\u001b[0m_lock\u001b[0m \u001b[0;34m=\u001b[0m \u001b[0mthreading\u001b[0m\u001b[0;34m.\u001b[0m\u001b[0mLock\u001b[0m\u001b[0;34m(\u001b[0m\u001b[0;34m)\u001b[0m\u001b[0;34m\u001b[0m\u001b[0;34m\u001b[0m\u001b[0m\n",
      "\u001b[0;32m~/anaconda3/envs/biosimspace-dev/lib/python3.7/site-packages/watchdog/observers/inotify_c.py\u001b[0m in \u001b[0;36m_raise_error\u001b[0;34m()\u001b[0m\n\u001b[1;32m    397\u001b[0m             \u001b[0;32mraise\u001b[0m \u001b[0mOSError\u001b[0m\u001b[0;34m(\u001b[0m\u001b[0merrno\u001b[0m\u001b[0;34m.\u001b[0m\u001b[0mENOSPC\u001b[0m\u001b[0;34m,\u001b[0m \u001b[0;34m\"inotify watch limit reached\"\u001b[0m\u001b[0;34m)\u001b[0m\u001b[0;34m\u001b[0m\u001b[0;34m\u001b[0m\u001b[0m\n\u001b[1;32m    398\u001b[0m         \u001b[0;32melif\u001b[0m \u001b[0merr\u001b[0m \u001b[0;34m==\u001b[0m \u001b[0merrno\u001b[0m\u001b[0;34m.\u001b[0m\u001b[0mEMFILE\u001b[0m\u001b[0;34m:\u001b[0m\u001b[0;34m\u001b[0m\u001b[0;34m\u001b[0m\u001b[0m\n\u001b[0;32m--> 399\u001b[0;31m             \u001b[0;32mraise\u001b[0m \u001b[0mOSError\u001b[0m\u001b[0;34m(\u001b[0m\u001b[0merrno\u001b[0m\u001b[0;34m.\u001b[0m\u001b[0mEMFILE\u001b[0m\u001b[0;34m,\u001b[0m \u001b[0;34m\"inotify instance limit reached\"\u001b[0m\u001b[0;34m)\u001b[0m\u001b[0;34m\u001b[0m\u001b[0;34m\u001b[0m\u001b[0m\n\u001b[0m\u001b[1;32m    400\u001b[0m         \u001b[0;32melif\u001b[0m \u001b[0merr\u001b[0m \u001b[0;34m==\u001b[0m \u001b[0merrno\u001b[0m\u001b[0;34m.\u001b[0m\u001b[0mEACCES\u001b[0m\u001b[0;34m:\u001b[0m\u001b[0;34m\u001b[0m\u001b[0;34m\u001b[0m\u001b[0m\n\u001b[1;32m    401\u001b[0m             \u001b[0;31m# Prevent raising an exception when a file with no permissions\u001b[0m\u001b[0;34m\u001b[0m\u001b[0;34m\u001b[0m\u001b[0;34m\u001b[0m\u001b[0m\n",
      "\u001b[0;31mOSError\u001b[0m: [Errno 24] inotify instance limit reached"
     ]
    }
   ],
   "source": [
    "minimisation_process.start()"
   ]
  },
  {
   "cell_type": "code",
   "execution_count": null,
   "id": "48a1405b",
   "metadata": {},
   "outputs": [],
   "source": []
  }
 ],
 "metadata": {
  "kernelspec": {
   "display_name": "Python 3 (ipykernel)",
   "language": "python",
   "name": "python3"
  },
  "language_info": {
   "codemirror_mode": {
    "name": "ipython",
    "version": 3
   },
   "file_extension": ".py",
   "mimetype": "text/x-python",
   "name": "python",
   "nbconvert_exporter": "python",
   "pygments_lexer": "ipython3",
   "version": "3.7.8"
  }
 },
 "nbformat": 4,
 "nbformat_minor": 5
}

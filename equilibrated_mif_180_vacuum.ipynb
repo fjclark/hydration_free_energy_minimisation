{
 "cells": [
  {
   "cell_type": "code",
   "execution_count": 1,
   "id": "d8506bb7",
   "metadata": {},
   "outputs": [
    {
     "name": "stderr",
     "output_type": "stream",
     "text": [
      "/home/finlayclark/anaconda3/envs/biosimspace-dev/lib/python3.7/site-packages/BioSimSpace/Process/_amber.py:296: UserWarning: No simulation box found. Assuming gas phase simulation.\n",
      "  _warnings.warn(\"No simulation box found. Assuming gas phase simulation.\")\n"
     ]
    }
   ],
   "source": [
    "import BioSimSpace as BSS"
   ]
  },
  {
   "cell_type": "markdown",
   "id": "37e02fb4",
   "metadata": {},
   "source": [
    "### Read in MIF 180"
   ]
  },
  {
   "cell_type": "code",
   "execution_count": 5,
   "id": "357c86c6",
   "metadata": {},
   "outputs": [],
   "source": [
    "mif_180 = BSS.IO.readMolecules([\"mif180_ligand.prm7\",\"mif180_ligand.rst7\"])"
   ]
  },
  {
   "cell_type": "code",
   "execution_count": 6,
   "id": "6bf99a5c",
   "metadata": {},
   "outputs": [
    {
     "data": {
      "application/vnd.jupyter.widget-view+json": {
       "model_id": "d6767583117a48538bfef2f14dc31133",
       "version_major": 2,
       "version_minor": 0
      },
      "text/plain": [
       "NGLWidget(gui_style='ngl')"
      ]
     },
     "metadata": {},
     "output_type": "display_data"
    }
   ],
   "source": [
    "view = BSS.Notebook.View(mif_180)\n",
    "view.system()"
   ]
  },
  {
   "cell_type": "markdown",
   "id": "8e3ae8e6",
   "metadata": {},
   "source": [
    "## Minimise"
   ]
  },
  {
   "cell_type": "code",
   "execution_count": 7,
   "id": "4061d19b",
   "metadata": {},
   "outputs": [],
   "source": [
    "minimisation_protocol = BSS.Protocol.Minimisation(steps = 1000)"
   ]
  },
  {
   "cell_type": "code",
   "execution_count": 8,
   "id": "2f7cd3e7",
   "metadata": {},
   "outputs": [],
   "source": [
    "minimisation_process = BSS.Process.Amber(mif_180, minimisation_protocol, exe = '/home/finlayclark/software/amber20/bin/pmemd')"
   ]
  },
  {
   "cell_type": "code",
   "execution_count": 9,
   "id": "8fd2d140",
   "metadata": {},
   "outputs": [
    {
     "data": {
      "text/plain": [
       "BioSimSpace.Process.Amber(<BioSimSpace.System: nMolecules=1>, BioSimSpace.Protocol.Minimisation(steps=1000), exe='/home/finlayclark/software/amber20/bin/pmemd', name='amber', work_dir='/tmp/tmp8r6hc5u5', seed=None)"
      ]
     },
     "execution_count": 9,
     "metadata": {},
     "output_type": "execute_result"
    }
   ],
   "source": [
    "minimisation_process.start()"
   ]
  },
  {
   "cell_type": "code",
   "execution_count": 10,
   "id": "3edf7650",
   "metadata": {},
   "outputs": [
    {
     "data": {
      "text/plain": [
       "['',\n",
       " 'Program received signal SIGSEGV: Segmentation fault - invalid memory reference.',\n",
       " '',\n",
       " 'Backtrace for this error:',\n",
       " '#0  0x7f6175568d21 in ???',\n",
       " '#1  0x7f6175567ef5 in ???',\n",
       " '#2  0x7f617538120f in ???',\n",
       " '#3  0x558d679af573 in ???',\n",
       " '#4  0x558d679ccdc4 in ???',\n",
       " '#5  0x558d679ff985 in ???',\n",
       " '#6  0x558d67a2eb0a in ???',\n",
       " '#7  0x558d6794297e in ???',\n",
       " '#8  0x7f61753620b2 in ???',\n",
       " '#9  0x558d679429bd in ???',\n",
       " '#10  0xffffffffffffffff in ???']"
      ]
     },
     "execution_count": 10,
     "metadata": {},
     "output_type": "execute_result"
    }
   ],
   "source": [
    "minimisation_process.getStderr()"
   ]
  },
  {
   "cell_type": "code",
   "execution_count": 11,
   "id": "5e17c0aa",
   "metadata": {},
   "outputs": [
    {
     "data": {
      "text/plain": [
       "['Minimisation',\n",
       " ' &cntrl',\n",
       " '  imin=1,',\n",
       " '  ntx=1,',\n",
       " '  ntxo=1,',\n",
       " '  ntpr=100,',\n",
       " '  irest=0,',\n",
       " '  maxcyc=1000,',\n",
       " '  ncyc=1000,',\n",
       " '  ntb=0,',\n",
       " '  cut=999.,',\n",
       " ' /']"
      ]
     },
     "execution_count": 11,
     "metadata": {},
     "output_type": "execute_result"
    }
   ],
   "source": [
    "minimisation_process.getConfig()"
   ]
  },
  {
   "cell_type": "code",
   "execution_count": null,
   "id": "a1485a73",
   "metadata": {},
   "outputs": [],
   "source": []
  }
 ],
 "metadata": {
  "kernelspec": {
   "display_name": "Python 3 (ipykernel)",
   "language": "python",
   "name": "python3"
  },
  "language_info": {
   "codemirror_mode": {
    "name": "ipython",
    "version": 3
   },
   "file_extension": ".py",
   "mimetype": "text/x-python",
   "name": "python",
   "nbconvert_exporter": "python",
   "pygments_lexer": "ipython3",
   "version": "3.7.8"
  }
 },
 "nbformat": 4,
 "nbformat_minor": 5
}

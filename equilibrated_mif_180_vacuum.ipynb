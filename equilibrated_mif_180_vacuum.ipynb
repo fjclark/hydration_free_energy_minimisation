{
 "cells": [
  {
   "cell_type": "code",
   "execution_count": 5,
   "id": "d8506bb7",
   "metadata": {},
   "outputs": [],
   "source": [
    "import BioSimSpace as BSS"
   ]
  },
  {
   "cell_type": "markdown",
   "id": "37e02fb4",
   "metadata": {},
   "source": [
    "### Remove Water from System"
   ]
  },
  {
   "cell_type": "code",
   "execution_count": 7,
   "id": "357c86c6",
   "metadata": {},
   "outputs": [],
   "source": [
    "mif_180 = BSS.IO.readMolecules([\"mif180_ligand.prm7\",\"mif180_ligand.rst7\"])"
   ]
  },
  {
   "cell_type": "code",
   "execution_count": 8,
   "id": "6bf99a5c",
   "metadata": {},
   "outputs": [
    {
     "data": {
      "application/vnd.jupyter.widget-view+json": {
       "model_id": "5d591f6f566845c7940115be4f33614e",
       "version_major": 2,
       "version_minor": 0
      },
      "text/plain": []
     },
     "metadata": {},
     "output_type": "display_data"
    },
    {
     "data": {
      "application/vnd.jupyter.widget-view+json": {
       "model_id": "e149a85da1a64ce8b511c7302278c3aa",
       "version_major": 2,
       "version_minor": 0
      },
      "text/plain": [
       "ThemeManager()"
      ]
     },
     "metadata": {},
     "output_type": "display_data"
    },
    {
     "data": {
      "application/vnd.jupyter.widget-view+json": {
       "model_id": "50a0d590091744a5bea92e2a7b1c9aa7",
       "version_major": 2,
       "version_minor": 0
      },
      "text/plain": [
       "NGLWidget(gui_style='ngl')"
      ]
     },
     "metadata": {},
     "output_type": "display_data"
    }
   ],
   "source": [
    "view = BSS.Notebook.View(mif_180)\n",
    "view.system()"
   ]
  },
  {
   "cell_type": "code",
   "execution_count": 15,
   "id": "aea6d564",
   "metadata": {},
   "outputs": [
    {
     "data": {
      "text/plain": [
       "BioSimSpace._SireWrappers._system.System"
      ]
     },
     "execution_count": 15,
     "metadata": {},
     "output_type": "execute_result"
    }
   ],
   "source": [
    "type(mif_180)"
   ]
  },
  {
   "cell_type": "markdown",
   "id": "8e3ae8e6",
   "metadata": {},
   "source": [
    "## Minimisation"
   ]
  },
  {
   "cell_type": "code",
   "execution_count": 16,
   "id": "4061d19b",
   "metadata": {},
   "outputs": [],
   "source": [
    "minimisation_protocol = BSS.Protocol.Minimisation(steps = 1000)"
   ]
  },
  {
   "cell_type": "code",
   "execution_count": 17,
   "id": "2f7cd3e7",
   "metadata": {},
   "outputs": [],
   "source": [
    "minimisation_process = BSS.Process.Amber(mif_180, minimisation_protocol, exe = '/home/finlayclark/software/amber20/bin/pmemd')"
   ]
  },
  {
   "cell_type": "code",
   "execution_count": 18,
   "id": "8fd2d140",
   "metadata": {},
   "outputs": [
    {
     "data": {
      "text/plain": [
       "BioSimSpace.Process.Amber(<BioSimSpace.System: nMolecules=1>, BioSimSpace.Protocol.Minimisation(steps=1000), exe='/home/finlayclark/software/amber20/bin/pmemd', name='amber', work_dir='/tmp/tmptgspv11x', seed=None)"
      ]
     },
     "execution_count": 18,
     "metadata": {},
     "output_type": "execute_result"
    }
   ],
   "source": [
    "minimisation_process.start()"
   ]
  },
  {
   "cell_type": "code",
   "execution_count": 19,
   "id": "3edf7650",
   "metadata": {},
   "outputs": [
    {
     "data": {
      "text/plain": [
       "['',\n",
       " 'Program received signal SIGSEGV: Segmentation fault - invalid memory reference.',\n",
       " '',\n",
       " 'Backtrace for this error:',\n",
       " '#0  0x7f8958008d21 in ???',\n",
       " '#1  0x7f8958007ef5 in ???',\n",
       " '#2  0x7f8957e2120f in ???',\n",
       " '#3  0x555dc21f0573 in ???',\n",
       " '#4  0x555dc220ddc4 in ???',\n",
       " '#5  0x555dc2240985 in ???',\n",
       " '#6  0x555dc226fb0a in ???',\n",
       " '#7  0x555dc218397e in ???',\n",
       " '#8  0x7f8957e020b2 in ???',\n",
       " '#9  0x555dc21839bd in ???',\n",
       " '#10  0xffffffffffffffff in ???']"
      ]
     },
     "execution_count": 19,
     "metadata": {},
     "output_type": "execute_result"
    }
   ],
   "source": [
    "minimisation_process.getStderr()"
   ]
  },
  {
   "cell_type": "code",
   "execution_count": 20,
   "id": "5e17c0aa",
   "metadata": {},
   "outputs": [
    {
     "data": {
      "text/plain": [
       "['Minimisation',\n",
       " ' &cntrl',\n",
       " '  imin=1,',\n",
       " '  ntx=1,',\n",
       " '  ntxo=1,',\n",
       " '  ntpr=100,',\n",
       " '  irest=0,',\n",
       " '  maxcyc=1000,',\n",
       " '  ncyc=1000,',\n",
       " '  ntb=0,',\n",
       " '  cut=999.,',\n",
       " ' /']"
      ]
     },
     "execution_count": 20,
     "metadata": {},
     "output_type": "execute_result"
    }
   ],
   "source": [
    "minimisation_process.getConfig()"
   ]
  }
 ],
 "metadata": {
  "kernelspec": {
   "display_name": "Python 3 (ipykernel)",
   "language": "python",
   "name": "python3"
  },
  "language_info": {
   "codemirror_mode": {
    "name": "ipython",
    "version": 3
   },
   "file_extension": ".py",
   "mimetype": "text/x-python",
   "name": "python",
   "nbconvert_exporter": "python",
   "pygments_lexer": "ipython3",
   "version": "3.7.8"
  }
 },
 "nbformat": 4,
 "nbformat_minor": 5
}
